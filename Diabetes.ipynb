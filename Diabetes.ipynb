{
 "cells": [
  {
   "cell_type": "markdown",
   "id": "b8287b89",
   "metadata": {},
   "source": [
    "# Diabetes :"
   ]
  },
  {
   "cell_type": "markdown",
   "id": "d7759cac",
   "metadata": {},
   "source": [
    " Diabetes mellitus ( DM ) , commonly known as diabetes , is a group of metabolic disorders characterized by a high blood sugar level over a prolonged period of time . Symptoms often include frequent urination , increased thirst , and increased appetite . If left untreated , diabetes can cause many complications . Acute complications can include diabetic ketoacidosis , hyperosmolar hyperglycemic state , or death . Serious long term complications include cardiovascular disease , stroke , chronic kidney disease , foot ulcers , damage to the nerves , damage to the eyes and cognitive impairment . \n",
    " \n",
    "Diabetes is due to either the pancreas not producing enough insulin , or the cells of the body not responding properly to the insulin produced . There are three main types of diabetes mellitus : \n",
    "\n",
    "1. Type 1 diabetes results from the pancreas's failure to produce enough insulin due to loss of beta cells . This form was previously referred to as \" insulin - dependent diabetes mellitus \" ( IDDM ) or \" juvenile diabetes . The loss of beta cells is caused by an autoimmune response . The cause of this autoimmune response is unknown . \n",
    "\n",
    "2. Type 2 diabetes begins with insulin resistance , a condition in which cells fail to respond to insulin properly . As the disease progresses , a lack of insulin may also develop . This form was previously referred to as \" non insulin - dependent diabetes mellitus \" ( NIDDM ) or \" adult onset diabetes . The most common cause combination excessive body weight and insufficient exercise . \n",
    "\n",
    "3. Gestational diabetes is the third main form , and occurs when pregnant women without a previous history of diabetes develop high blood sugar levels "
   ]
  },
  {
   "cell_type": "markdown",
   "id": "ad3af0bb",
   "metadata": {},
   "source": [
    "Sign and Synptoms of Diabetes:"
   ]
  },
  {
   "cell_type": "markdown",
   "id": "7026b7dc",
   "metadata": {},
   "source": [
    "The classic symptoms of untreated diabetes are unintended weight loss , polyuria ( increased urination ) , polydipsia ( increased thirst ) , and polyphagia ( increased hunger ) . Symptoms may develop rapidly ( weeks or months ) in type 1 diabetes , while they usually develop much more slowly and may be subtle or absent in type 2 diabetes . \n",
    "\n",
    "Several other signs and symptoms can mark the onset of diabetes although they are not specific to the disease . In addition to the known ones above , they include blurred vision , headache , fatigue , slow healing of cuts , and itchy skin . Prolonged high blood glucose can cause glucose absorption in the lens of the eye , which leads to changes in its shape , resulting in vision changes . Long - term vision loss can also be caused by diabetic retinopathy . A number of skin rashes that can occur in diabetes are collectively known as diabetic dermadromes "
   ]
  },
  {
   "cell_type": "markdown",
   "id": "acd32918",
   "metadata": {},
   "source": [
    "Common Symptoms"
   ]
  },
  {
   "cell_type": "code",
   "execution_count": 1,
   "id": "fa8ccbd5",
   "metadata": {},
   "outputs": [],
   "source": [
    "import pandas as pd\n",
    "import warnings\n",
    "warnings. filterwarnings('ignore')\n"
   ]
  },
  {
   "cell_type": "code",
   "execution_count": 2,
   "id": "6da443b9",
   "metadata": {},
   "outputs": [],
   "source": [
    "df=pd.read_csv(\"Diabetes.csv\")"
   ]
  },
  {
   "cell_type": "code",
   "execution_count": 3,
   "id": "9b6bf6d7",
   "metadata": {},
   "outputs": [
    {
     "data": {
      "text/html": [
       "<div>\n",
       "<style scoped>\n",
       "    .dataframe tbody tr th:only-of-type {\n",
       "        vertical-align: middle;\n",
       "    }\n",
       "\n",
       "    .dataframe tbody tr th {\n",
       "        vertical-align: top;\n",
       "    }\n",
       "\n",
       "    .dataframe thead th {\n",
       "        text-align: right;\n",
       "    }\n",
       "</style>\n",
       "<table border=\"1\" class=\"dataframe\">\n",
       "  <thead>\n",
       "    <tr style=\"text-align: right;\">\n",
       "      <th></th>\n",
       "      <th>Pregnancies</th>\n",
       "      <th>Glucose</th>\n",
       "      <th>BloodPressure</th>\n",
       "      <th>SkinThickness</th>\n",
       "      <th>Insulin</th>\n",
       "      <th>BMI</th>\n",
       "      <th>DiabetesPedigreeFunction</th>\n",
       "      <th>Age</th>\n",
       "      <th>Outcome</th>\n",
       "    </tr>\n",
       "  </thead>\n",
       "  <tbody>\n",
       "    <tr>\n",
       "      <th>0</th>\n",
       "      <td>6</td>\n",
       "      <td>148</td>\n",
       "      <td>72</td>\n",
       "      <td>35</td>\n",
       "      <td>0</td>\n",
       "      <td>33.6</td>\n",
       "      <td>0.627</td>\n",
       "      <td>50</td>\n",
       "      <td>1</td>\n",
       "    </tr>\n",
       "    <tr>\n",
       "      <th>1</th>\n",
       "      <td>1</td>\n",
       "      <td>85</td>\n",
       "      <td>66</td>\n",
       "      <td>29</td>\n",
       "      <td>0</td>\n",
       "      <td>26.6</td>\n",
       "      <td>0.351</td>\n",
       "      <td>31</td>\n",
       "      <td>0</td>\n",
       "    </tr>\n",
       "    <tr>\n",
       "      <th>2</th>\n",
       "      <td>8</td>\n",
       "      <td>183</td>\n",
       "      <td>64</td>\n",
       "      <td>0</td>\n",
       "      <td>0</td>\n",
       "      <td>23.3</td>\n",
       "      <td>0.672</td>\n",
       "      <td>32</td>\n",
       "      <td>1</td>\n",
       "    </tr>\n",
       "    <tr>\n",
       "      <th>3</th>\n",
       "      <td>1</td>\n",
       "      <td>89</td>\n",
       "      <td>66</td>\n",
       "      <td>23</td>\n",
       "      <td>94</td>\n",
       "      <td>28.1</td>\n",
       "      <td>0.167</td>\n",
       "      <td>21</td>\n",
       "      <td>0</td>\n",
       "    </tr>\n",
       "    <tr>\n",
       "      <th>4</th>\n",
       "      <td>0</td>\n",
       "      <td>137</td>\n",
       "      <td>40</td>\n",
       "      <td>35</td>\n",
       "      <td>168</td>\n",
       "      <td>43.1</td>\n",
       "      <td>2.288</td>\n",
       "      <td>33</td>\n",
       "      <td>1</td>\n",
       "    </tr>\n",
       "    <tr>\n",
       "      <th>...</th>\n",
       "      <td>...</td>\n",
       "      <td>...</td>\n",
       "      <td>...</td>\n",
       "      <td>...</td>\n",
       "      <td>...</td>\n",
       "      <td>...</td>\n",
       "      <td>...</td>\n",
       "      <td>...</td>\n",
       "      <td>...</td>\n",
       "    </tr>\n",
       "    <tr>\n",
       "      <th>763</th>\n",
       "      <td>10</td>\n",
       "      <td>101</td>\n",
       "      <td>76</td>\n",
       "      <td>48</td>\n",
       "      <td>180</td>\n",
       "      <td>32.9</td>\n",
       "      <td>0.171</td>\n",
       "      <td>63</td>\n",
       "      <td>0</td>\n",
       "    </tr>\n",
       "    <tr>\n",
       "      <th>764</th>\n",
       "      <td>2</td>\n",
       "      <td>122</td>\n",
       "      <td>70</td>\n",
       "      <td>27</td>\n",
       "      <td>0</td>\n",
       "      <td>36.8</td>\n",
       "      <td>0.340</td>\n",
       "      <td>27</td>\n",
       "      <td>0</td>\n",
       "    </tr>\n",
       "    <tr>\n",
       "      <th>765</th>\n",
       "      <td>5</td>\n",
       "      <td>121</td>\n",
       "      <td>72</td>\n",
       "      <td>23</td>\n",
       "      <td>112</td>\n",
       "      <td>26.2</td>\n",
       "      <td>0.245</td>\n",
       "      <td>30</td>\n",
       "      <td>0</td>\n",
       "    </tr>\n",
       "    <tr>\n",
       "      <th>766</th>\n",
       "      <td>1</td>\n",
       "      <td>126</td>\n",
       "      <td>60</td>\n",
       "      <td>0</td>\n",
       "      <td>0</td>\n",
       "      <td>30.1</td>\n",
       "      <td>0.349</td>\n",
       "      <td>47</td>\n",
       "      <td>1</td>\n",
       "    </tr>\n",
       "    <tr>\n",
       "      <th>767</th>\n",
       "      <td>1</td>\n",
       "      <td>93</td>\n",
       "      <td>70</td>\n",
       "      <td>31</td>\n",
       "      <td>0</td>\n",
       "      <td>30.4</td>\n",
       "      <td>0.315</td>\n",
       "      <td>23</td>\n",
       "      <td>0</td>\n",
       "    </tr>\n",
       "  </tbody>\n",
       "</table>\n",
       "<p>768 rows × 9 columns</p>\n",
       "</div>"
      ],
      "text/plain": [
       "     Pregnancies  Glucose  BloodPressure  SkinThickness  Insulin   BMI  \\\n",
       "0              6      148             72             35        0  33.6   \n",
       "1              1       85             66             29        0  26.6   \n",
       "2              8      183             64              0        0  23.3   \n",
       "3              1       89             66             23       94  28.1   \n",
       "4              0      137             40             35      168  43.1   \n",
       "..           ...      ...            ...            ...      ...   ...   \n",
       "763           10      101             76             48      180  32.9   \n",
       "764            2      122             70             27        0  36.8   \n",
       "765            5      121             72             23      112  26.2   \n",
       "766            1      126             60              0        0  30.1   \n",
       "767            1       93             70             31        0  30.4   \n",
       "\n",
       "     DiabetesPedigreeFunction  Age  Outcome  \n",
       "0                       0.627   50        1  \n",
       "1                       0.351   31        0  \n",
       "2                       0.672   32        1  \n",
       "3                       0.167   21        0  \n",
       "4                       2.288   33        1  \n",
       "..                        ...  ...      ...  \n",
       "763                     0.171   63        0  \n",
       "764                     0.340   27        0  \n",
       "765                     0.245   30        0  \n",
       "766                     0.349   47        1  \n",
       "767                     0.315   23        0  \n",
       "\n",
       "[768 rows x 9 columns]"
      ]
     },
     "execution_count": 3,
     "metadata": {},
     "output_type": "execute_result"
    }
   ],
   "source": [
    "df"
   ]
  },
  {
   "cell_type": "code",
   "execution_count": 4,
   "id": "e26c80fa",
   "metadata": {},
   "outputs": [
    {
     "data": {
      "text/plain": [
       "Index(['Pregnancies', 'Glucose', 'BloodPressure', 'SkinThickness', 'Insulin',\n",
       "       'BMI', 'DiabetesPedigreeFunction', 'Age', 'Outcome'],\n",
       "      dtype='object')"
      ]
     },
     "execution_count": 4,
     "metadata": {},
     "output_type": "execute_result"
    }
   ],
   "source": [
    "df.columns"
   ]
  },
  {
   "cell_type": "markdown",
   "id": "1826da6b",
   "metadata": {},
   "source": [
    "# About the columns"
   ]
  },
  {
   "cell_type": "markdown",
   "id": "f283b7b5",
   "metadata": {},
   "source": [
    "1. Pregnancies:\n",
    "    This column shows that the number of pregnanciesof the woman. The woman with the pregnancies has higher chances of diabetes.\n",
    "    the glucose level in the blood of the pregrant woman is slightly higher than a normal woman\n",
    "    \n",
    "2. Glucose:\n",
    "    It shows the amount of glucose level in miligram in blood\n",
    "    \n",
    "3.Blood pressure:\n",
    "    It shows the blood pressure of the blood in millimeter of the mercury level.\n",
    "4. Skin Thickness:\n",
    "    It shows the thickness of the skin. The data in the skin tickness column is of micron unit\n",
    "5. Insulin:\n",
    "    It shows the insulin level of the blood\n",
    "    \n",
    "6.BMI:\n",
    "    \n",
    "    It shows the body mass index of the person. The BMI is calculated by height to weight ratio\n",
    "    \n",
    "7.Diabetes Pedigree Function:\n",
    "    It shows the heridity flow of the diabetes from the paprent to child\n",
    "    \n",
    "8. Age\n",
    "   The \"age\" is the common factor as the increase in age might increases the chances of being diabetic.\n",
    "   \n",
    "9. Outcomes\n",
    "   It shows the result whether the person or not. 1 shows the person is diabetic while 0 shows the person is non diabetic"
   ]
  },
  {
   "cell_type": "code",
   "execution_count": 5,
   "id": "142b5416",
   "metadata": {
    "scrolled": true
   },
   "outputs": [
    {
     "data": {
      "text/plain": [
       "Pregnancies                 0\n",
       "Glucose                     0\n",
       "BloodPressure               0\n",
       "SkinThickness               0\n",
       "Insulin                     0\n",
       "BMI                         0\n",
       "DiabetesPedigreeFunction    0\n",
       "Age                         0\n",
       "Outcome                     0\n",
       "dtype: int64"
      ]
     },
     "execution_count": 5,
     "metadata": {},
     "output_type": "execute_result"
    }
   ],
   "source": [
    "df.isnull().sum()"
   ]
  },
  {
   "cell_type": "code",
   "execution_count": 6,
   "id": "8065c58a",
   "metadata": {},
   "outputs": [
    {
     "name": "stdout",
     "output_type": "stream",
     "text": [
      "<class 'pandas.core.frame.DataFrame'>\n",
      "RangeIndex: 768 entries, 0 to 767\n",
      "Data columns (total 9 columns):\n",
      " #   Column                    Non-Null Count  Dtype  \n",
      "---  ------                    --------------  -----  \n",
      " 0   Pregnancies               768 non-null    int64  \n",
      " 1   Glucose                   768 non-null    int64  \n",
      " 2   BloodPressure             768 non-null    int64  \n",
      " 3   SkinThickness             768 non-null    int64  \n",
      " 4   Insulin                   768 non-null    int64  \n",
      " 5   BMI                       768 non-null    float64\n",
      " 6   DiabetesPedigreeFunction  768 non-null    float64\n",
      " 7   Age                       768 non-null    int64  \n",
      " 8   Outcome                   768 non-null    int64  \n",
      "dtypes: float64(2), int64(7)\n",
      "memory usage: 54.1 KB\n"
     ]
    }
   ],
   "source": [
    "df.info()"
   ]
  },
  {
   "cell_type": "code",
   "execution_count": 7,
   "id": "749345d7",
   "metadata": {},
   "outputs": [
    {
     "data": {
      "text/html": [
       "<div>\n",
       "<style scoped>\n",
       "    .dataframe tbody tr th:only-of-type {\n",
       "        vertical-align: middle;\n",
       "    }\n",
       "\n",
       "    .dataframe tbody tr th {\n",
       "        vertical-align: top;\n",
       "    }\n",
       "\n",
       "    .dataframe thead th {\n",
       "        text-align: right;\n",
       "    }\n",
       "</style>\n",
       "<table border=\"1\" class=\"dataframe\">\n",
       "  <thead>\n",
       "    <tr style=\"text-align: right;\">\n",
       "      <th></th>\n",
       "      <th>Pregnancies</th>\n",
       "      <th>Glucose</th>\n",
       "      <th>BloodPressure</th>\n",
       "      <th>SkinThickness</th>\n",
       "      <th>Insulin</th>\n",
       "      <th>BMI</th>\n",
       "      <th>DiabetesPedigreeFunction</th>\n",
       "      <th>Age</th>\n",
       "      <th>Outcome</th>\n",
       "    </tr>\n",
       "  </thead>\n",
       "  <tbody>\n",
       "    <tr>\n",
       "      <th>count</th>\n",
       "      <td>768.000000</td>\n",
       "      <td>768.000000</td>\n",
       "      <td>768.000000</td>\n",
       "      <td>768.000000</td>\n",
       "      <td>768.000000</td>\n",
       "      <td>768.000000</td>\n",
       "      <td>768.000000</td>\n",
       "      <td>768.000000</td>\n",
       "      <td>768.000000</td>\n",
       "    </tr>\n",
       "    <tr>\n",
       "      <th>mean</th>\n",
       "      <td>3.845052</td>\n",
       "      <td>120.894531</td>\n",
       "      <td>69.105469</td>\n",
       "      <td>20.536458</td>\n",
       "      <td>79.799479</td>\n",
       "      <td>31.992578</td>\n",
       "      <td>0.471876</td>\n",
       "      <td>33.240885</td>\n",
       "      <td>0.348958</td>\n",
       "    </tr>\n",
       "    <tr>\n",
       "      <th>std</th>\n",
       "      <td>3.369578</td>\n",
       "      <td>31.972618</td>\n",
       "      <td>19.355807</td>\n",
       "      <td>15.952218</td>\n",
       "      <td>115.244002</td>\n",
       "      <td>7.884160</td>\n",
       "      <td>0.331329</td>\n",
       "      <td>11.760232</td>\n",
       "      <td>0.476951</td>\n",
       "    </tr>\n",
       "    <tr>\n",
       "      <th>min</th>\n",
       "      <td>0.000000</td>\n",
       "      <td>0.000000</td>\n",
       "      <td>0.000000</td>\n",
       "      <td>0.000000</td>\n",
       "      <td>0.000000</td>\n",
       "      <td>0.000000</td>\n",
       "      <td>0.078000</td>\n",
       "      <td>21.000000</td>\n",
       "      <td>0.000000</td>\n",
       "    </tr>\n",
       "    <tr>\n",
       "      <th>25%</th>\n",
       "      <td>1.000000</td>\n",
       "      <td>99.000000</td>\n",
       "      <td>62.000000</td>\n",
       "      <td>0.000000</td>\n",
       "      <td>0.000000</td>\n",
       "      <td>27.300000</td>\n",
       "      <td>0.243750</td>\n",
       "      <td>24.000000</td>\n",
       "      <td>0.000000</td>\n",
       "    </tr>\n",
       "    <tr>\n",
       "      <th>50%</th>\n",
       "      <td>3.000000</td>\n",
       "      <td>117.000000</td>\n",
       "      <td>72.000000</td>\n",
       "      <td>23.000000</td>\n",
       "      <td>30.500000</td>\n",
       "      <td>32.000000</td>\n",
       "      <td>0.372500</td>\n",
       "      <td>29.000000</td>\n",
       "      <td>0.000000</td>\n",
       "    </tr>\n",
       "    <tr>\n",
       "      <th>75%</th>\n",
       "      <td>6.000000</td>\n",
       "      <td>140.250000</td>\n",
       "      <td>80.000000</td>\n",
       "      <td>32.000000</td>\n",
       "      <td>127.250000</td>\n",
       "      <td>36.600000</td>\n",
       "      <td>0.626250</td>\n",
       "      <td>41.000000</td>\n",
       "      <td>1.000000</td>\n",
       "    </tr>\n",
       "    <tr>\n",
       "      <th>max</th>\n",
       "      <td>17.000000</td>\n",
       "      <td>199.000000</td>\n",
       "      <td>122.000000</td>\n",
       "      <td>99.000000</td>\n",
       "      <td>846.000000</td>\n",
       "      <td>67.100000</td>\n",
       "      <td>2.420000</td>\n",
       "      <td>81.000000</td>\n",
       "      <td>1.000000</td>\n",
       "    </tr>\n",
       "  </tbody>\n",
       "</table>\n",
       "</div>"
      ],
      "text/plain": [
       "       Pregnancies     Glucose  BloodPressure  SkinThickness     Insulin  \\\n",
       "count   768.000000  768.000000     768.000000     768.000000  768.000000   \n",
       "mean      3.845052  120.894531      69.105469      20.536458   79.799479   \n",
       "std       3.369578   31.972618      19.355807      15.952218  115.244002   \n",
       "min       0.000000    0.000000       0.000000       0.000000    0.000000   \n",
       "25%       1.000000   99.000000      62.000000       0.000000    0.000000   \n",
       "50%       3.000000  117.000000      72.000000      23.000000   30.500000   \n",
       "75%       6.000000  140.250000      80.000000      32.000000  127.250000   \n",
       "max      17.000000  199.000000     122.000000      99.000000  846.000000   \n",
       "\n",
       "              BMI  DiabetesPedigreeFunction         Age     Outcome  \n",
       "count  768.000000                768.000000  768.000000  768.000000  \n",
       "mean    31.992578                  0.471876   33.240885    0.348958  \n",
       "std      7.884160                  0.331329   11.760232    0.476951  \n",
       "min      0.000000                  0.078000   21.000000    0.000000  \n",
       "25%     27.300000                  0.243750   24.000000    0.000000  \n",
       "50%     32.000000                  0.372500   29.000000    0.000000  \n",
       "75%     36.600000                  0.626250   41.000000    1.000000  \n",
       "max     67.100000                  2.420000   81.000000    1.000000  "
      ]
     },
     "execution_count": 7,
     "metadata": {},
     "output_type": "execute_result"
    }
   ],
   "source": [
    "#add few more parameter , i want to do more non grapical analysis so i can use df.describe method\n",
    "df.describe()"
   ]
  },
  {
   "cell_type": "code",
   "execution_count": 8,
   "id": "cf651517",
   "metadata": {},
   "outputs": [],
   "source": [
    "#Count of every column are equal means - no null value\n",
    "#What is the mean value of Pregnancies, Glucose, Blood pressure, Skinthickness and also all columnns\n",
    "#Stad Deviation\n",
    "#min - miniumumvalue of all the values \n",
    "#25% -Quartile                              -1st quartile\n",
    "#50% -Quartile- and its also say median       -2nd quartile\n",
    "#75% -Quaratile                            -3rd quartile\n",
    "#Max - are largest value\n",
    "\n",
    "#Mean is greater than median - the what type of skweness is present-  skewness present in the left side\n",
    "# After seaing the Insulin colums  Max values are more than the 3rd quartile it shows the outliers are present in the insulin\n",
    "\n",
    "\n",
    "# Mean is less than the median it means your data is left escape\n",
    "# mean is greater than median then it means your data is right escaped"
   ]
  },
  {
   "cell_type": "markdown",
   "id": "6bb82add",
   "metadata": {},
   "source": [
    "# 2 . EDA"
   ]
  },
  {
   "cell_type": "markdown",
   "id": "d627763c",
   "metadata": {},
   "source": [
    "Scatterplot: "
   ]
  },
  {
   "cell_type": "code",
   "execution_count": 11,
   "id": "b4097587",
   "metadata": {},
   "outputs": [
    {
     "data": {
      "text/plain": [
       "<AxesSubplot:xlabel='Pregnancies', ylabel='Outcome'>"
      ]
     },
     "execution_count": 11,
     "metadata": {},
     "output_type": "execute_result"
    },
    {
     "data": {
      "image/png": "[encoded data removed]",
      "text/plain": [
       "<Figure size 432x288 with 1 Axes>"
      ]
     },
     "metadata": {
      "needs_background": "light"
     },
     "output_type": "display_data"
    }
   ],
   "source": [
    "import seaborn as sns\n",
    "sns.scatterplot(x=\"Pregnancies\", y=\"Outcome\", data=df)"
   ]
  },
  {
   "cell_type": "markdown",
   "id": "82a57a2b",
   "metadata": {},
   "source": [
    "We can see the no. of weeks of the pregnancies is equal distributed in range 0  to 13"
   ]
  },
  {
   "cell_type": "code",
   "execution_count": 14,
   "id": "3d6c3806",
   "metadata": {},
   "outputs": [
    {
     "data": {
      "text/plain": [
       "<AxesSubplot:xlabel='Glucose', ylabel='Outcome'>"
      ]
     },
     "execution_count": 14,
     "metadata": {},
     "output_type": "execute_result"
    },
    {
     "data": {
      "image/png": "[encoded data removed]",
      "text/plain": [
       "<Figure size 432x288 with 1 Axes>"
      ]
     },
     "metadata": {
      "needs_background": "light"
     },
     "output_type": "display_data"
    }
   ],
   "source": [
    "sns.scatterplot(x=\"Glucose\", y=\"Outcome\", data=df)"
   ]
  },
  {
   "cell_type": "markdown",
   "id": "2ce6af07",
   "metadata": {},
   "source": [
    "we can see the Glucose is equally distributed in the range 55 to 200"
   ]
  },
  {
   "cell_type": "code",
   "execution_count": 15,
   "id": "1f7f6149",
   "metadata": {},
   "outputs": [
    {
     "data": {
      "text/plain": [
       "<AxesSubplot:xlabel='BloodPressure', ylabel='Outcome'>"
      ]
     },
     "execution_count": 15,
     "metadata": {},
     "output_type": "execute_result"
    },
    {
     "data": {
      "image/png": "[encoded data removed]",
      "text/plain": [
       "<Figure size 432x288 with 1 Axes>"
      ]
     },
     "metadata": {
      "needs_background": "light"
     },
     "output_type": "display_data"
    }
   ],
   "source": [
    "sns.scatterplot(x=\"BloodPressure\", y=\"Outcome\", data=df)"
   ]
  },
  {
   "cell_type": "markdown",
   "id": "2afbce1e",
   "metadata": {},
   "source": [
    "We can see Blood pressure is equal distributed in thge range of 45 to 100"
   ]
  },
  {
   "cell_type": "code",
   "execution_count": 16,
   "id": "584e0d6a",
   "metadata": {},
   "outputs": [
    {
     "data": {
      "text/plain": [
       "<AxesSubplot:xlabel='SkinThickness', ylabel='Outcome'>"
      ]
     },
     "execution_count": 16,
     "metadata": {},
     "output_type": "execute_result"
    },
    {
     "data": {
      "image/png": "[encoded data removed]",
      "text/plain": [
       "<Figure size 432x288 with 1 Axes>"
      ]
     },
     "metadata": {
      "needs_background": "light"
     },
     "output_type": "display_data"
    }
   ],
   "source": [
    "sns.scatterplot(x=\"SkinThickness\", y=\"Outcome\", data=df)"
   ]
  },
  {
   "cell_type": "markdown",
   "id": "50dc603f",
   "metadata": {},
   "source": [
    "We can see the skin thickness is equally distributed in the range 5 to 55"
   ]
  },
  {
   "cell_type": "code",
   "execution_count": 18,
   "id": "eded3d5d",
   "metadata": {},
   "outputs": [
    {
     "data": {
      "text/plain": [
       "<AxesSubplot:xlabel='Insulin', ylabel='Outcome'>"
      ]
     },
     "execution_count": 18,
     "metadata": {},
     "output_type": "execute_result"
    },
    {
     "data": {
      "image/png": "[encoded data removed]",
      "text/plain": [
       "<Figure size 432x288 with 1 Axes>"
      ]
     },
     "metadata": {
      "needs_background": "light"
     },
     "output_type": "display_data"
    }
   ],
   "source": [
    "sns.scatterplot(x=\"Insulin\", y=\"Outcome\", data=df)"
   ]
  },
  {
   "cell_type": "markdown",
   "id": "5d8e0f7b",
   "metadata": {},
   "source": [
    "We can see the insulin is equally distributed in the range 0 to 375"
   ]
  },
  {
   "cell_type": "code",
   "execution_count": 19,
   "id": "0e7565e1",
   "metadata": {},
   "outputs": [
    {
     "data": {
      "text/plain": [
       "<AxesSubplot:xlabel='BMI', ylabel='Outcome'>"
      ]
     },
     "execution_count": 19,
     "metadata": {},
     "output_type": "execute_result"
    },
    {
     "data": {
      "image/png": "[encoded data removed]",
      "text/plain": [
       "<Figure size 432x288 with 1 Axes>"
      ]
     },
     "metadata": {
      "needs_background": "light"
     },
     "output_type": "display_data"
    }
   ],
   "source": [
    "sns.scatterplot(x=\"BMI\", y=\"Outcome\", data=df)"
   ]
  },
  {
   "cell_type": "markdown",
   "id": "e14920fd",
   "metadata": {},
   "source": [
    "We can see the BMI is equal distributed in the range of 18 to 50"
   ]
  },
  {
   "cell_type": "code",
   "execution_count": 20,
   "id": "284191ee",
   "metadata": {},
   "outputs": [
    {
     "data": {
      "text/plain": [
       "<AxesSubplot:xlabel='DiabetesPedigreeFunction', ylabel='Outcome'>"
      ]
     },
     "execution_count": 20,
     "metadata": {},
     "output_type": "execute_result"
    },
    {
     "data": {
      "image/png": "[encoded data removed]",
      "text/plain": [
       "<Figure size 432x288 with 1 Axes>"
      ]
     },
     "metadata": {
      "needs_background": "light"
     },
     "output_type": "display_data"
    }
   ],
   "source": [
    "sns.scatterplot(x=\"DiabetesPedigreeFunction\", y=\"Outcome\", data=df)"
   ]
  },
  {
   "cell_type": "markdown",
   "id": "0359f324",
   "metadata": {},
   "source": [
    "We can see the DiabeticPedigreeFunction is equally distributed in the range 0 to 125"
   ]
  },
  {
   "cell_type": "code",
   "execution_count": 21,
   "id": "8e5dc0d9",
   "metadata": {},
   "outputs": [
    {
     "data": {
      "text/plain": [
       "<AxesSubplot:xlabel='Age', ylabel='Outcome'>"
      ]
     },
     "execution_count": 21,
     "metadata": {},
     "output_type": "execute_result"
    },
    {
     "data": {
      "image/png": "[encoded data removed]",
      "text/plain": [
       "<Figure size 432x288 with 1 Axes>"
      ]
     },
     "metadata": {
      "needs_background": "light"
     },
     "output_type": "display_data"
    }
   ],
   "source": [
    "sns.scatterplot(x=\"Age\", y=\"Outcome\", data=df)"
   ]
  },
  {
   "cell_type": "markdown",
   "id": "501875b4",
   "metadata": {},
   "source": [
    "We can see the  Diabetic pedegree Function is equally distributed in the range 20 to 60"
   ]
  },
  {
   "cell_type": "markdown",
   "id": "69dca2a3",
   "metadata": {},
   "source": [
    "Correlation"
   ]
  },
  {
   "cell_type": "code",
   "execution_count": 22,
   "id": "325ab244",
   "metadata": {},
   "outputs": [
    {
     "data": {
      "text/html": [
       "<div>\n",
       "<style scoped>\n",
       "    .dataframe tbody tr th:only-of-type {\n",
       "        vertical-align: middle;\n",
       "    }\n",
       "\n",
       "    .dataframe tbody tr th {\n",
       "        vertical-align: top;\n",
       "    }\n",
       "\n",
       "    .dataframe thead th {\n",
       "        text-align: right;\n",
       "    }\n",
       "</style>\n",
       "<table border=\"1\" class=\"dataframe\">\n",
       "  <thead>\n",
       "    <tr style=\"text-align: right;\">\n",
       "      <th></th>\n",
       "      <th>Pregnancies</th>\n",
       "      <th>Glucose</th>\n",
       "      <th>BloodPressure</th>\n",
       "      <th>SkinThickness</th>\n",
       "      <th>Insulin</th>\n",
       "      <th>BMI</th>\n",
       "      <th>DiabetesPedigreeFunction</th>\n",
       "      <th>Age</th>\n",
       "      <th>Outcome</th>\n",
       "    </tr>\n",
       "  </thead>\n",
       "  <tbody>\n",
       "    <tr>\n",
       "      <th>Pregnancies</th>\n",
       "      <td>1.000000</td>\n",
       "      <td>0.129459</td>\n",
       "      <td>0.141282</td>\n",
       "      <td>-0.081672</td>\n",
       "      <td>-0.073535</td>\n",
       "      <td>0.017683</td>\n",
       "      <td>-0.033523</td>\n",
       "      <td>0.544341</td>\n",
       "      <td>0.221898</td>\n",
       "    </tr>\n",
       "    <tr>\n",
       "      <th>Glucose</th>\n",
       "      <td>0.129459</td>\n",
       "      <td>1.000000</td>\n",
       "      <td>0.152590</td>\n",
       "      <td>0.057328</td>\n",
       "      <td>0.331357</td>\n",
       "      <td>0.221071</td>\n",
       "      <td>0.137337</td>\n",
       "      <td>0.263514</td>\n",
       "      <td>0.466581</td>\n",
       "    </tr>\n",
       "    <tr>\n",
       "      <th>BloodPressure</th>\n",
       "      <td>0.141282</td>\n",
       "      <td>0.152590</td>\n",
       "      <td>1.000000</td>\n",
       "      <td>0.207371</td>\n",
       "      <td>0.088933</td>\n",
       "      <td>0.281805</td>\n",
       "      <td>0.041265</td>\n",
       "      <td>0.239528</td>\n",
       "      <td>0.065068</td>\n",
       "    </tr>\n",
       "    <tr>\n",
       "      <th>SkinThickness</th>\n",
       "      <td>-0.081672</td>\n",
       "      <td>0.057328</td>\n",
       "      <td>0.207371</td>\n",
       "      <td>1.000000</td>\n",
       "      <td>0.436783</td>\n",
       "      <td>0.392573</td>\n",
       "      <td>0.183928</td>\n",
       "      <td>-0.113970</td>\n",
       "      <td>0.074752</td>\n",
       "    </tr>\n",
       "    <tr>\n",
       "      <th>Insulin</th>\n",
       "      <td>-0.073535</td>\n",
       "      <td>0.331357</td>\n",
       "      <td>0.088933</td>\n",
       "      <td>0.436783</td>\n",
       "      <td>1.000000</td>\n",
       "      <td>0.197859</td>\n",
       "      <td>0.185071</td>\n",
       "      <td>-0.042163</td>\n",
       "      <td>0.130548</td>\n",
       "    </tr>\n",
       "    <tr>\n",
       "      <th>BMI</th>\n",
       "      <td>0.017683</td>\n",
       "      <td>0.221071</td>\n",
       "      <td>0.281805</td>\n",
       "      <td>0.392573</td>\n",
       "      <td>0.197859</td>\n",
       "      <td>1.000000</td>\n",
       "      <td>0.140647</td>\n",
       "      <td>0.036242</td>\n",
       "      <td>0.292695</td>\n",
       "    </tr>\n",
       "    <tr>\n",
       "      <th>DiabetesPedigreeFunction</th>\n",
       "      <td>-0.033523</td>\n",
       "      <td>0.137337</td>\n",
       "      <td>0.041265</td>\n",
       "      <td>0.183928</td>\n",
       "      <td>0.185071</td>\n",
       "      <td>0.140647</td>\n",
       "      <td>1.000000</td>\n",
       "      <td>0.033561</td>\n",
       "      <td>0.173844</td>\n",
       "    </tr>\n",
       "    <tr>\n",
       "      <th>Age</th>\n",
       "      <td>0.544341</td>\n",
       "      <td>0.263514</td>\n",
       "      <td>0.239528</td>\n",
       "      <td>-0.113970</td>\n",
       "      <td>-0.042163</td>\n",
       "      <td>0.036242</td>\n",
       "      <td>0.033561</td>\n",
       "      <td>1.000000</td>\n",
       "      <td>0.238356</td>\n",
       "    </tr>\n",
       "    <tr>\n",
       "      <th>Outcome</th>\n",
       "      <td>0.221898</td>\n",
       "      <td>0.466581</td>\n",
       "      <td>0.065068</td>\n",
       "      <td>0.074752</td>\n",
       "      <td>0.130548</td>\n",
       "      <td>0.292695</td>\n",
       "      <td>0.173844</td>\n",
       "      <td>0.238356</td>\n",
       "      <td>1.000000</td>\n",
       "    </tr>\n",
       "  </tbody>\n",
       "</table>\n",
       "</div>"
      ],
      "text/plain": [
       "                          Pregnancies   Glucose  BloodPressure  SkinThickness  \\\n",
       "Pregnancies                  1.000000  0.129459       0.141282      -0.081672   \n",
       "Glucose                      0.129459  1.000000       0.152590       0.057328   \n",
       "BloodPressure                0.141282  0.152590       1.000000       0.207371   \n",
       "SkinThickness               -0.081672  0.057328       0.207371       1.000000   \n",
       "Insulin                     -0.073535  0.331357       0.088933       0.436783   \n",
       "BMI                          0.017683  0.221071       0.281805       0.392573   \n",
       "DiabetesPedigreeFunction    -0.033523  0.137337       0.041265       0.183928   \n",
       "Age                          0.544341  0.263514       0.239528      -0.113970   \n",
       "Outcome                      0.221898  0.466581       0.065068       0.074752   \n",
       "\n",
       "                           Insulin       BMI  DiabetesPedigreeFunction  \\\n",
       "Pregnancies              -0.073535  0.017683                 -0.033523   \n",
       "Glucose                   0.331357  0.221071                  0.137337   \n",
       "BloodPressure             0.088933  0.281805                  0.041265   \n",
       "SkinThickness             0.436783  0.392573                  0.183928   \n",
       "Insulin                   1.000000  0.197859                  0.185071   \n",
       "BMI                       0.197859  1.000000                  0.140647   \n",
       "DiabetesPedigreeFunction  0.185071  0.140647                  1.000000   \n",
       "Age                      -0.042163  0.036242                  0.033561   \n",
       "Outcome                   0.130548  0.292695                  0.173844   \n",
       "\n",
       "                               Age   Outcome  \n",
       "Pregnancies               0.544341  0.221898  \n",
       "Glucose                   0.263514  0.466581  \n",
       "BloodPressure             0.239528  0.065068  \n",
       "SkinThickness            -0.113970  0.074752  \n",
       "Insulin                  -0.042163  0.130548  \n",
       "BMI                       0.036242  0.292695  \n",
       "DiabetesPedigreeFunction  0.033561  0.173844  \n",
       "Age                       1.000000  0.238356  \n",
       "Outcome                   0.238356  1.000000  "
      ]
     },
     "execution_count": 22,
     "metadata": {},
     "output_type": "execute_result"
    }
   ],
   "source": [
    "df.corr()"
   ]
  },
  {
   "cell_type": "markdown",
   "id": "04966fcf",
   "metadata": {},
   "source": [
    "#we are taking the correlations that we can find out the relation, and the effect of the relation between two variables the relation can be between independent variables= verses another dependent variable   or the relationship between one independent variable with dependent variables"
   ]
  },
  {
   "cell_type": "raw",
   "id": "ad0542ee",
   "metadata": {},
   "source": [
    "The correlation of pregnancies with pregnancies is corrrelatiion is 1\n",
    "    pregnancies  - with glucose\n",
    "    pregnancies  - with Blood pressure\n",
    "    pregnancies  - with SkinThickness\n",
    "    pregnancies  - with insulin\n",
    "    pregnancies   -with BMI\n",
    "    pregnancies -  With DPF \n",
    "    pregnancies  - WIth Age\n",
    "    pregnancies  _ With Outcome\n",
    "    \n",
    "Same as Gulcose - Gulcose is increasing the chances of Diabetics is increases"
   ]
  },
  {
   "cell_type": "markdown",
   "id": "2bc5b785",
   "metadata": {},
   "source": [
    "Correlation using heatmap"
   ]
  },
  {
   "cell_type": "code",
   "execution_count": 26,
   "id": "e242c75b",
   "metadata": {},
   "outputs": [
    {
     "data": {
      "text/plain": [
       "<AxesSubplot:>"
      ]
     },
     "execution_count": 26,
     "metadata": {},
     "output_type": "execute_result"
    },
    {
     "data": {
      "image/png": "[encoded data removed]",
      "text/plain": [
       "<Figure size 1080x504 with 2 Axes>"
      ]
     },
     "metadata": {
      "needs_background": "light"
     },
     "output_type": "display_data"
    }
   ],
   "source": [
    "import matplotlib.pyplot as plt\n",
    "plt.figure(figsize=(15,7))\n",
    "sns.heatmap(df.corr(), annot=True, linewidth=0.5, linecolor=\"black\", fmt='0.2f')"
   ]
  },
  {
   "cell_type": "markdown",
   "id": "73361831",
   "metadata": {},
   "source": [
    "Outcomes of correlation"
   ]
  },
  {
   "cell_type": "markdown",
   "id": "65aab2bd",
   "metadata": {},
   "source": [
    "All the columns of the datasets is positively correlated with the target column . \n",
    "\n",
    "Pregnancies has 22 percent correlation with the target column which can be considered as a good bond . \n",
    "\n",
    "Glucose has 47 percent correlation with the target column which can be considered as a strong bond . \n",
    "\n",
    "Blood Pressure has 7 percent correlation with the target column which can be considered as a weak bond . \n",
    "\n",
    "Skin thickness has 7 percent correlation with the target column which can be considered as a weak bond . \n",
    "\n",
    "Insulin has 13 percent correlation with the target column which can be considered as a good bond . \n",
    "\n",
    "BMI has 29 percent correlation with the target column which can be considered as a good bond . \n",
    "\n",
    "Diabetic PedgreeFunction has 17 percent correlation with the target column which can be considered as a good bond . \n",
    "\n",
    "Age has 24 percent correlation with the target column which can be considered as a good bond .\n",
    "\n",
    "\n",
    "Max correlation : Glucose Min Correlation : Skin thickness"
   ]
  },
  {
   "cell_type": "markdown",
   "id": "3629630f",
   "metadata": {},
   "source": [
    "Describing Datasets:"
   ]
  },
  {
   "cell_type": "code",
   "execution_count": 27,
   "id": "c298bbeb",
   "metadata": {},
   "outputs": [
    {
     "data": {
      "text/html": [
       "<div>\n",
       "<style scoped>\n",
       "    .dataframe tbody tr th:only-of-type {\n",
       "        vertical-align: middle;\n",
       "    }\n",
       "\n",
       "    .dataframe tbody tr th {\n",
       "        vertical-align: top;\n",
       "    }\n",
       "\n",
       "    .dataframe thead th {\n",
       "        text-align: right;\n",
       "    }\n",
       "</style>\n",
       "<table border=\"1\" class=\"dataframe\">\n",
       "  <thead>\n",
       "    <tr style=\"text-align: right;\">\n",
       "      <th></th>\n",
       "      <th>Pregnancies</th>\n",
       "      <th>Glucose</th>\n",
       "      <th>BloodPressure</th>\n",
       "      <th>SkinThickness</th>\n",
       "      <th>Insulin</th>\n",
       "      <th>BMI</th>\n",
       "      <th>DiabetesPedigreeFunction</th>\n",
       "      <th>Age</th>\n",
       "      <th>Outcome</th>\n",
       "    </tr>\n",
       "  </thead>\n",
       "  <tbody>\n",
       "    <tr>\n",
       "      <th>count</th>\n",
       "      <td>768.000000</td>\n",
       "      <td>768.000000</td>\n",
       "      <td>768.000000</td>\n",
       "      <td>768.000000</td>\n",
       "      <td>768.000000</td>\n",
       "      <td>768.000000</td>\n",
       "      <td>768.000000</td>\n",
       "      <td>768.000000</td>\n",
       "      <td>768.000000</td>\n",
       "    </tr>\n",
       "    <tr>\n",
       "      <th>mean</th>\n",
       "      <td>3.845052</td>\n",
       "      <td>120.894531</td>\n",
       "      <td>69.105469</td>\n",
       "      <td>20.536458</td>\n",
       "      <td>79.799479</td>\n",
       "      <td>31.992578</td>\n",
       "      <td>0.471876</td>\n",
       "      <td>33.240885</td>\n",
       "      <td>0.348958</td>\n",
       "    </tr>\n",
       "    <tr>\n",
       "      <th>std</th>\n",
       "      <td>3.369578</td>\n",
       "      <td>31.972618</td>\n",
       "      <td>19.355807</td>\n",
       "      <td>15.952218</td>\n",
       "      <td>115.244002</td>\n",
       "      <td>7.884160</td>\n",
       "      <td>0.331329</td>\n",
       "      <td>11.760232</td>\n",
       "      <td>0.476951</td>\n",
       "    </tr>\n",
       "    <tr>\n",
       "      <th>min</th>\n",
       "      <td>0.000000</td>\n",
       "      <td>0.000000</td>\n",
       "      <td>0.000000</td>\n",
       "      <td>0.000000</td>\n",
       "      <td>0.000000</td>\n",
       "      <td>0.000000</td>\n",
       "      <td>0.078000</td>\n",
       "      <td>21.000000</td>\n",
       "      <td>0.000000</td>\n",
       "    </tr>\n",
       "    <tr>\n",
       "      <th>25%</th>\n",
       "      <td>1.000000</td>\n",
       "      <td>99.000000</td>\n",
       "      <td>62.000000</td>\n",
       "      <td>0.000000</td>\n",
       "      <td>0.000000</td>\n",
       "      <td>27.300000</td>\n",
       "      <td>0.243750</td>\n",
       "      <td>24.000000</td>\n",
       "      <td>0.000000</td>\n",
       "    </tr>\n",
       "    <tr>\n",
       "      <th>50%</th>\n",
       "      <td>3.000000</td>\n",
       "      <td>117.000000</td>\n",
       "      <td>72.000000</td>\n",
       "      <td>23.000000</td>\n",
       "      <td>30.500000</td>\n",
       "      <td>32.000000</td>\n",
       "      <td>0.372500</td>\n",
       "      <td>29.000000</td>\n",
       "      <td>0.000000</td>\n",
       "    </tr>\n",
       "    <tr>\n",
       "      <th>75%</th>\n",
       "      <td>6.000000</td>\n",
       "      <td>140.250000</td>\n",
       "      <td>80.000000</td>\n",
       "      <td>32.000000</td>\n",
       "      <td>127.250000</td>\n",
       "      <td>36.600000</td>\n",
       "      <td>0.626250</td>\n",
       "      <td>41.000000</td>\n",
       "      <td>1.000000</td>\n",
       "    </tr>\n",
       "    <tr>\n",
       "      <th>max</th>\n",
       "      <td>17.000000</td>\n",
       "      <td>199.000000</td>\n",
       "      <td>122.000000</td>\n",
       "      <td>99.000000</td>\n",
       "      <td>846.000000</td>\n",
       "      <td>67.100000</td>\n",
       "      <td>2.420000</td>\n",
       "      <td>81.000000</td>\n",
       "      <td>1.000000</td>\n",
       "    </tr>\n",
       "  </tbody>\n",
       "</table>\n",
       "</div>"
      ],
      "text/plain": [
       "       Pregnancies     Glucose  BloodPressure  SkinThickness     Insulin  \\\n",
       "count   768.000000  768.000000     768.000000     768.000000  768.000000   \n",
       "mean      3.845052  120.894531      69.105469      20.536458   79.799479   \n",
       "std       3.369578   31.972618      19.355807      15.952218  115.244002   \n",
       "min       0.000000    0.000000       0.000000       0.000000    0.000000   \n",
       "25%       1.000000   99.000000      62.000000       0.000000    0.000000   \n",
       "50%       3.000000  117.000000      72.000000      23.000000   30.500000   \n",
       "75%       6.000000  140.250000      80.000000      32.000000  127.250000   \n",
       "max      17.000000  199.000000     122.000000      99.000000  846.000000   \n",
       "\n",
       "              BMI  DiabetesPedigreeFunction         Age     Outcome  \n",
       "count  768.000000                768.000000  768.000000  768.000000  \n",
       "mean    31.992578                  0.471876   33.240885    0.348958  \n",
       "std      7.884160                  0.331329   11.760232    0.476951  \n",
       "min      0.000000                  0.078000   21.000000    0.000000  \n",
       "25%     27.300000                  0.243750   24.000000    0.000000  \n",
       "50%     32.000000                  0.372500   29.000000    0.000000  \n",
       "75%     36.600000                  0.626250   41.000000    1.000000  \n",
       "max     67.100000                  2.420000   81.000000    1.000000  "
      ]
     },
     "execution_count": 27,
     "metadata": {},
     "output_type": "execute_result"
    }
   ],
   "source": [
    "df.describe()"
   ]
  },
  {
   "cell_type": "code",
   "execution_count": 28,
   "id": "15b35fdf",
   "metadata": {},
   "outputs": [
    {
     "data": {
      "image/png": "[encoded data removed]",
      "text/plain": [
       "<Figure size 1080x864 with 2 Axes>"
      ]
     },
     "metadata": {
      "needs_background": "light"
     },
     "output_type": "display_data"
    }
   ],
   "source": [
    "plt.figure(figsize=(15,12))\n",
    "sns.heatmap(round(df.describe()[1:].transpose(),2),linewidth=2, annot=True, fmt=\"f\")\n",
    "plt.xticks(fontsize=18)\n",
    "plt.yticks(fontsize=12)\n",
    "plt.title(\"Variables summary\")\n",
    "plt.show()"
   ]
  },
  {
   "cell_type": "code",
   "execution_count": 30,
   "id": "4420f74c",
   "metadata": {},
   "outputs": [
    {
     "data": {
      "text/plain": [
       "(768, 9)"
      ]
     },
     "execution_count": 30,
     "metadata": {},
     "output_type": "execute_result"
    }
   ],
   "source": [
    "df.shape"
   ]
  },
  {
   "cell_type": "markdown",
   "id": "e58d4919",
   "metadata": {},
   "source": [
    "Outcomes of describe of datasets:\n",
    "\n",
    "    from the above plotting we are deta=ermining mean, standard deviation, minimum and maximum value of each column. It helps us further in data cleaning.\n",
    "    \n",
    "    Total number of rows in the datasets:\n",
    "        1. 768 rows\n",
    "        2. 9 columns\n",
    "        \n",
    "    Pregnancies:\n",
    "        1. Mean= 3.845052\n",
    "        2. Std=3.369578\n",
    "        3. Max_value=17.0000\n",
    "        4.min_value+ 0\n",
    "        \n",
    "    Glucose:\n",
    "        1.Mean= 120.894531\n",
    "        2.std=31.972618\n",
    "        3.Max_vale=199.000000\n",
    "        4.min_value=0\n",
    "    \n",
    "    Blood Pressure:\n",
    "        1.Mean=69.105469\n",
    "        2.Std=19.355807\n",
    "        3.Max_value=122.0000\n",
    "        4.min_value=0.000\n",
    "    \n",
    "    Skin Thickness:\n",
    "        1.Mean+181.567282\n",
    "        2.std=21.354219\n",
    "        3.max_value=247.00000\n",
    "        4.Min_value=121.80000\n",
    "        \n",
    "   Same as BMI, DiabetesPedigreeFunction, Age, \n",
    "\n",
    "\n",
    "Outcomes: This outcomes under binary categorical data. so describe shows no valid outcomes"
   ]
  },
  {
   "cell_type": "code",
   "execution_count": 34,
   "id": "8b6d7b60",
   "metadata": {},
   "outputs": [
    {
     "data": {
      "text/plain": [
       "array([1, 0], dtype=int64)"
      ]
     },
     "execution_count": 34,
     "metadata": {},
     "output_type": "execute_result"
    }
   ],
   "source": [
    "#Now we can see only two values are present 0 and 1 so when i am using the unique function agian\n",
    "#Here in the outcomes only two values are present 1-is person sufeering from diabetics  and 0- is not suffering from diabetics \n",
    "# This is the binary classification problems\n",
    "df['Outcome'].unique()"
   ]
  },
  {
   "cell_type": "markdown",
   "id": "3abc5df2",
   "metadata": {},
   "source": [
    "VVV Imp concepts\n",
    "\n",
    "1. Unique values are very less means only two in your target variables then its a binary classification \n",
    "\n",
    "2. if it is more then two (2) and the ratio between the ratio of unique values and the size of unique values and the size of data set is very huge then its a multi-class classification problems\n",
    "\n",
    "3. if the data present in your target variables ais continuous data means teh decimal values or whole numbers or integer numbers, basically so it does'nt mean that its a regression problem first.\n",
    "\n",
    "first you have to check the count inique value presnt in your target variables\n",
    "\n",
    "up to 20 thousand or 50 k or 100k data in the data or if the datas are lessthan 20k in that case we have to check all the data and after thgat we can consider whether we need thorough solve regression or classificatio \n",
    " \n",
    " Now if the ratio between the target vaqriables and the ratio of unique values are very less it means that its a regression problems"
   ]
  },
  {
   "cell_type": "code",
   "execution_count": 36,
   "id": "030fd08c",
   "metadata": {},
   "outputs": [
    {
     "name": "stdout",
     "output_type": "stream",
     "text": [
      "<class 'pandas.core.frame.DataFrame'>\n",
      "RangeIndex: 768 entries, 0 to 767\n",
      "Data columns (total 9 columns):\n",
      " #   Column                    Non-Null Count  Dtype  \n",
      "---  ------                    --------------  -----  \n",
      " 0   Pregnancies               768 non-null    int64  \n",
      " 1   Glucose                   768 non-null    int64  \n",
      " 2   BloodPressure             768 non-null    int64  \n",
      " 3   SkinThickness             768 non-null    int64  \n",
      " 4   Insulin                   768 non-null    int64  \n",
      " 5   BMI                       768 non-null    float64\n",
      " 6   DiabetesPedigreeFunction  768 non-null    float64\n",
      " 7   Age                       768 non-null    int64  \n",
      " 8   Outcome                   768 non-null    int64  \n",
      "dtypes: float64(2), int64(7)\n",
      "memory usage: 54.1 KB\n"
     ]
    }
   ],
   "source": [
    "df.info()"
   ]
  },
  {
   "cell_type": "markdown",
   "id": "57dbef31",
   "metadata": {},
   "source": [
    "From the Above code we can have the columns datatypes and memory used by the dataframe"
   ]
  },
  {
   "cell_type": "markdown",
   "id": "ddb338a8",
   "metadata": {},
   "source": [
    "Outliers Checking:"
   ]
  },
  {
   "cell_type": "code",
   "execution_count": 43,
   "id": "98a53824",
   "metadata": {},
   "outputs": [
    {
     "data": {
      "image/png": "[encoded data removed]",
      "text/plain": [
       "<Figure size 2160x6480 with 9 Axes>"
      ]
     },
     "metadata": {
      "needs_background": "light"
     },
     "output_type": "display_data"
    }
   ],
   "source": [
    "collist=df.columns.values\n",
    "ncol=30\n",
    "nrows=20\n",
    "plt.figure(figsize=(ncol,3*ncol))\n",
    "for i in range (0, len(collist)):\n",
    "    plt.subplot(nrows,ncol,i+1)\n",
    "    sns.boxplot(df[collist[i]],color='green', orient= 'v')\n",
    "    plt.tight_layout()"
   ]
  },
  {
   "cell_type": "markdown",
   "id": "8854584e",
   "metadata": {},
   "source": [
    "From the above outcomes we can see that columns[\"Pregnancies\",Glocose, skinthickness, BMI] has less outliers\n",
    "\n",
    "Columns [\"Insulin, DiabeticPedigressFunction\", age] has more outliers while the outcomes columns has no outliers"
   ]
  },
  {
   "cell_type": "markdown",
   "id": "d17a0804",
   "metadata": {},
   "source": [
    "Skewness"
   ]
  },
  {
   "cell_type": "code",
   "execution_count": 44,
   "id": "a35b963f",
   "metadata": {},
   "outputs": [
    {
     "data": {
      "text/plain": [
       "Pregnancies                 0.901674\n",
       "Glucose                     0.173754\n",
       "BloodPressure              -1.843608\n",
       "SkinThickness               0.109372\n",
       "Insulin                     2.272251\n",
       "BMI                        -0.428982\n",
       "DiabetesPedigreeFunction    1.919911\n",
       "Age                         1.129597\n",
       "Outcome                     0.635017\n",
       "dtype: float64"
      ]
     },
     "execution_count": 44,
     "metadata": {},
     "output_type": "execute_result"
    }
   ],
   "source": [
    "df.skew()"
   ]
  },
  {
   "cell_type": "markdown",
   "id": "37ade040",
   "metadata": {},
   "source": [
    "We are/don't not going to remove the skwness from the target variable as well as categorical variables, \n",
    "\n",
    "here my outcome is category data first thing  as well as its my target variables"
   ]
  },
  {
   "cell_type": "markdown",
   "id": "20e28f6a",
   "metadata": {},
   "source": [
    "Otcome of the skewness: Skewness threshold is taken is +/-0.5. columns which are having skewness\n",
    "    \n",
    "    Pregnencies\n",
    "    Blood pressure Insulin\n",
    "    DiabetesPedigreefunction\n",
    "    Age"
   ]
  },
  {
   "cell_type": "markdown",
   "id": "b13a26cb",
   "metadata": {},
   "source": [
    "We are removing the skweness or/ with that limit from the data using trasnformation method are log, cube root square root box, cost power transforma. "
   ]
  },
  {
   "cell_type": "markdown",
   "id": "bfd0e79e",
   "metadata": {},
   "source": [
    "VVV Imp\n",
    "\n",
    "when i will applying the transformatiom formula the acceptable range is not reduced after an extend then we can say that this is the acceptable. are this is the skweness value"
   ]
  },
  {
   "cell_type": "markdown",
   "id": "ab35227c",
   "metadata": {},
   "source": [
    "Normal Distribution Curve"
   ]
  },
  {
   "cell_type": "code",
   "execution_count": 47,
   "id": "0ad0ebc8",
   "metadata": {},
   "outputs": [
    {
     "data": {
      "text/plain": [
       "<AxesSubplot:xlabel='Pregnancies', ylabel='Density'>"
      ]
     },
     "execution_count": 47,
     "metadata": {},
     "output_type": "execute_result"
    },
    {
     "data": {
      "image/png": "[encoded data removed]",
      "text/plain": [
       "<Figure size 432x288 with 1 Axes>"
      ]
     },
     "metadata": {
      "needs_background": "light"
     },
     "output_type": "display_data"
    }
   ],
   "source": [
    "sns.distplot(df['Pregnancies'])"
   ]
  },
  {
   "cell_type": "markdown",
   "id": "e4638d13",
   "metadata": {},
   "source": [
    "The data of the columns is not normalised. The Building blocks is out of the normalised curve"
   ]
  },
  {
   "cell_type": "code",
   "execution_count": 48,
   "id": "6a666b20",
   "metadata": {},
   "outputs": [
    {
     "data": {
      "text/plain": [
       "<AxesSubplot:xlabel='Glucose', ylabel='Density'>"
      ]
     },
     "execution_count": 48,
     "metadata": {},
     "output_type": "execute_result"
    },
    {
     "data": {
      "image/png": "[encoded data removed]",
      "text/plain": [
       "<Figure size 432x288 with 1 Axes>"
      ]
     },
     "metadata": {
      "needs_background": "light"
     },
     "output_type": "display_data"
    }
   ],
   "source": [
    "sns.distplot(df['Glucose'])"
   ]
  },
  {
   "cell_type": "markdown",
   "id": "6acec1da",
   "metadata": {},
   "source": [
    "The data is normalised. The Building blocks is out of the normalised curve"
   ]
  },
  {
   "cell_type": "code",
   "execution_count": 49,
   "id": "e3393760",
   "metadata": {},
   "outputs": [
    {
     "data": {
      "text/plain": [
       "<AxesSubplot:xlabel='BloodPressure', ylabel='Density'>"
      ]
     },
     "execution_count": 49,
     "metadata": {},
     "output_type": "execute_result"
    },
    {
     "data": {
      "image/png": "[encoded data removed]",
      "text/plain": [
       "<Figure size 432x288 with 1 Axes>"
      ]
     },
     "metadata": {
      "needs_background": "light"
     },
     "output_type": "display_data"
    }
   ],
   "source": [
    "sns.distplot(df['BloodPressure'])"
   ]
  },
  {
   "cell_type": "markdown",
   "id": "7ab5035a",
   "metadata": {},
   "source": [
    "The data is not normalised. The building blocks is out of thge normalosed curve"
   ]
  },
  {
   "cell_type": "code",
   "execution_count": 51,
   "id": "b52233a5",
   "metadata": {},
   "outputs": [
    {
     "data": {
      "text/plain": [
       "<AxesSubplot:xlabel='SkinThickness', ylabel='Density'>"
      ]
     },
     "execution_count": 51,
     "metadata": {},
     "output_type": "execute_result"
    },
    {
     "data": {
      "image/png": "[encoded data removed]",
      "text/plain": [
       "<Figure size 432x288 with 1 Axes>"
      ]
     },
     "metadata": {
      "needs_background": "light"
     },
     "output_type": "display_data"
    }
   ],
   "source": [
    "sns.distplot(df['SkinThickness'])"
   ]
  },
  {
   "cell_type": "markdown",
   "id": "3c75c63a",
   "metadata": {},
   "source": [
    "The data is not normalised. The Building blocks is out of the normalised curve"
   ]
  },
  {
   "cell_type": "code",
   "execution_count": 50,
   "id": "1c890067",
   "metadata": {},
   "outputs": [
    {
     "data": {
      "text/plain": [
       "<AxesSubplot:xlabel='Insulin', ylabel='Density'>"
      ]
     },
     "execution_count": 50,
     "metadata": {},
     "output_type": "execute_result"
    },
    {
     "data": {
      "image/png": "[encoded data removed]",
      "text/plain": [
       "<Figure size 432x288 with 1 Axes>"
      ]
     },
     "metadata": {
      "needs_background": "light"
     },
     "output_type": "display_data"
    }
   ],
   "source": [
    "sns.distplot(df['Insulin'])"
   ]
  },
  {
   "cell_type": "markdown",
   "id": "895ac4f3",
   "metadata": {},
   "source": [
    "The data is not normalised . The Building blocks is out of the normalised curve"
   ]
  },
  {
   "cell_type": "code",
   "execution_count": 52,
   "id": "11def855",
   "metadata": {},
   "outputs": [
    {
     "data": {
      "text/plain": [
       "<AxesSubplot:xlabel='BMI', ylabel='Density'>"
      ]
     },
     "execution_count": 52,
     "metadata": {},
     "output_type": "execute_result"
    },
    {
     "data": {
      "image/png": "[encoded data removed]",
      "text/plain": [
       "<Figure size 432x288 with 1 Axes>"
      ]
     },
     "metadata": {
      "needs_background": "light"
     },
     "output_type": "display_data"
    }
   ],
   "source": [
    "sns.distplot(df['BMI'])"
   ]
  },
  {
   "cell_type": "markdown",
   "id": "ad63cf80",
   "metadata": {},
   "source": [
    "The data is not normalised. The building Blocks is out of the normalised curve"
   ]
  },
  {
   "cell_type": "code",
   "execution_count": 53,
   "id": "05227985",
   "metadata": {},
   "outputs": [
    {
     "data": {
      "text/plain": [
       "<AxesSubplot:xlabel='DiabetesPedigreeFunction', ylabel='Density'>"
      ]
     },
     "execution_count": 53,
     "metadata": {},
     "output_type": "execute_result"
    },
    {
     "data": {
      "image/png": "[encoded data removed]",
      "text/plain": [
       "<Figure size 432x288 with 1 Axes>"
      ]
     },
     "metadata": {
      "needs_background": "light"
     },
     "output_type": "display_data"
    }
   ],
   "source": [
    "sns.distplot(df['DiabetesPedigreeFunction'])"
   ]
  },
  {
   "cell_type": "markdown",
   "id": "9ed37ee3",
   "metadata": {},
   "source": [
    "The data is not normalised. The building blocks is out of the normalised curve"
   ]
  },
  {
   "cell_type": "code",
   "execution_count": 54,
   "id": "e7bbf9fb",
   "metadata": {},
   "outputs": [
    {
     "data": {
      "text/plain": [
       "<AxesSubplot:xlabel='Age', ylabel='Density'>"
      ]
     },
     "execution_count": 54,
     "metadata": {},
     "output_type": "execute_result"
    },
    {
     "data": {
      "image/png": "[encoded data removed]",
      "text/plain": [
       "<Figure size 432x288 with 1 Axes>"
      ]
     },
     "metadata": {
      "needs_background": "light"
     },
     "output_type": "display_data"
    }
   ],
   "source": [
    "sns.distplot(df[\"Age\"])"
   ]
  },
  {
   "cell_type": "markdown",
   "id": "6107831d",
   "metadata": {},
   "source": [
    "The data is not normalised. The building blocks is out of the normalised curve\n",
    "\n",
    "The normal distribution curve of outcome is irrelevent."
   ]
  },
  {
   "cell_type": "markdown",
   "id": "76974559",
   "metadata": {},
   "source": [
    "The normal distribution shows that the data is skewed"
   ]
  },
  {
   "cell_type": "markdown",
   "id": "e3d9b3e3",
   "metadata": {},
   "source": [
    "# Data Cleaning:"
   ]
  },
  {
   "cell_type": "code",
   "execution_count": 56,
   "id": "64eba60d",
   "metadata": {},
   "outputs": [
    {
     "data": {
      "text/html": [
       "<div>\n",
       "<style scoped>\n",
       "    .dataframe tbody tr th:only-of-type {\n",
       "        vertical-align: middle;\n",
       "    }\n",
       "\n",
       "    .dataframe tbody tr th {\n",
       "        vertical-align: top;\n",
       "    }\n",
       "\n",
       "    .dataframe thead th {\n",
       "        text-align: right;\n",
       "    }\n",
       "</style>\n",
       "<table border=\"1\" class=\"dataframe\">\n",
       "  <thead>\n",
       "    <tr style=\"text-align: right;\">\n",
       "      <th></th>\n",
       "      <th>Correlation with Target</th>\n",
       "      <th>Column Name</th>\n",
       "      <th>Normalised</th>\n",
       "      <th>Outliers</th>\n",
       "    </tr>\n",
       "  </thead>\n",
       "  <tbody>\n",
       "    <tr>\n",
       "      <th>0</th>\n",
       "      <td>0.065068</td>\n",
       "      <td>Blood Pressure</td>\n",
       "      <td>No</td>\n",
       "      <td>Alot</td>\n",
       "    </tr>\n",
       "    <tr>\n",
       "      <th>1</th>\n",
       "      <td>0.074752</td>\n",
       "      <td>Skin Thickness</td>\n",
       "      <td>No</td>\n",
       "      <td>Alot</td>\n",
       "    </tr>\n",
       "  </tbody>\n",
       "</table>\n",
       "</div>"
      ],
      "text/plain": [
       "  Correlation with Target     Column Name Normalised Outliers\n",
       "0                0.065068  Blood Pressure         No     Alot\n",
       "1                0.074752  Skin Thickness         No     Alot"
      ]
     },
     "execution_count": 56,
     "metadata": {},
     "output_type": "execute_result"
    }
   ],
   "source": [
    "delete=pd.DataFrame([[\"0.065068\",\"Blood Pressure\", \"No\", \"Alot\"],[\"0.074752\",\"Skin Thickness\", \"No\", \"Alot\"]],columns=[\"Correlation with Target\",\"Column Name\",\"Normalised\",\"Outliers\"])\n",
    "delete"
   ]
  },
  {
   "cell_type": "markdown",
   "id": "d886557d",
   "metadata": {},
   "source": [
    "Double-Click(or entre to edit)"
   ]
  },
  {
   "cell_type": "markdown",
   "id": "d698f274",
   "metadata": {},
   "source": [
    "The above correlation vlues are very less in that puposes we will drop the value and also, normalized or outliers"
   ]
  },
  {
   "cell_type": "markdown",
   "id": "bf9adc1d",
   "metadata": {},
   "source": [
    "Here, we are setting threshold of correlation as +/-0.1 . it is not standard . The dataset demands"
   ]
  },
  {
   "cell_type": "code",
   "execution_count": 57,
   "id": "1ee4463e",
   "metadata": {},
   "outputs": [],
   "source": [
    "df=df.drop([\"BloodPressure\",\"SkinThickness\"],axis=1)"
   ]
  },
  {
   "cell_type": "code",
   "execution_count": 58,
   "id": "2487715c",
   "metadata": {},
   "outputs": [
    {
     "data": {
      "text/html": [
       "<div>\n",
       "<style scoped>\n",
       "    .dataframe tbody tr th:only-of-type {\n",
       "        vertical-align: middle;\n",
       "    }\n",
       "\n",
       "    .dataframe tbody tr th {\n",
       "        vertical-align: top;\n",
       "    }\n",
       "\n",
       "    .dataframe thead th {\n",
       "        text-align: right;\n",
       "    }\n",
       "</style>\n",
       "<table border=\"1\" class=\"dataframe\">\n",
       "  <thead>\n",
       "    <tr style=\"text-align: right;\">\n",
       "      <th></th>\n",
       "      <th>Pregnancies</th>\n",
       "      <th>Glucose</th>\n",
       "      <th>Insulin</th>\n",
       "      <th>BMI</th>\n",
       "      <th>DiabetesPedigreeFunction</th>\n",
       "      <th>Age</th>\n",
       "      <th>Outcome</th>\n",
       "    </tr>\n",
       "  </thead>\n",
       "  <tbody>\n",
       "    <tr>\n",
       "      <th>0</th>\n",
       "      <td>6</td>\n",
       "      <td>148</td>\n",
       "      <td>0</td>\n",
       "      <td>33.6</td>\n",
       "      <td>0.627</td>\n",
       "      <td>50</td>\n",
       "      <td>1</td>\n",
       "    </tr>\n",
       "    <tr>\n",
       "      <th>1</th>\n",
       "      <td>1</td>\n",
       "      <td>85</td>\n",
       "      <td>0</td>\n",
       "      <td>26.6</td>\n",
       "      <td>0.351</td>\n",
       "      <td>31</td>\n",
       "      <td>0</td>\n",
       "    </tr>\n",
       "    <tr>\n",
       "      <th>2</th>\n",
       "      <td>8</td>\n",
       "      <td>183</td>\n",
       "      <td>0</td>\n",
       "      <td>23.3</td>\n",
       "      <td>0.672</td>\n",
       "      <td>32</td>\n",
       "      <td>1</td>\n",
       "    </tr>\n",
       "    <tr>\n",
       "      <th>3</th>\n",
       "      <td>1</td>\n",
       "      <td>89</td>\n",
       "      <td>94</td>\n",
       "      <td>28.1</td>\n",
       "      <td>0.167</td>\n",
       "      <td>21</td>\n",
       "      <td>0</td>\n",
       "    </tr>\n",
       "    <tr>\n",
       "      <th>4</th>\n",
       "      <td>0</td>\n",
       "      <td>137</td>\n",
       "      <td>168</td>\n",
       "      <td>43.1</td>\n",
       "      <td>2.288</td>\n",
       "      <td>33</td>\n",
       "      <td>1</td>\n",
       "    </tr>\n",
       "    <tr>\n",
       "      <th>...</th>\n",
       "      <td>...</td>\n",
       "      <td>...</td>\n",
       "      <td>...</td>\n",
       "      <td>...</td>\n",
       "      <td>...</td>\n",
       "      <td>...</td>\n",
       "      <td>...</td>\n",
       "    </tr>\n",
       "    <tr>\n",
       "      <th>763</th>\n",
       "      <td>10</td>\n",
       "      <td>101</td>\n",
       "      <td>180</td>\n",
       "      <td>32.9</td>\n",
       "      <td>0.171</td>\n",
       "      <td>63</td>\n",
       "      <td>0</td>\n",
       "    </tr>\n",
       "    <tr>\n",
       "      <th>764</th>\n",
       "      <td>2</td>\n",
       "      <td>122</td>\n",
       "      <td>0</td>\n",
       "      <td>36.8</td>\n",
       "      <td>0.340</td>\n",
       "      <td>27</td>\n",
       "      <td>0</td>\n",
       "    </tr>\n",
       "    <tr>\n",
       "      <th>765</th>\n",
       "      <td>5</td>\n",
       "      <td>121</td>\n",
       "      <td>112</td>\n",
       "      <td>26.2</td>\n",
       "      <td>0.245</td>\n",
       "      <td>30</td>\n",
       "      <td>0</td>\n",
       "    </tr>\n",
       "    <tr>\n",
       "      <th>766</th>\n",
       "      <td>1</td>\n",
       "      <td>126</td>\n",
       "      <td>0</td>\n",
       "      <td>30.1</td>\n",
       "      <td>0.349</td>\n",
       "      <td>47</td>\n",
       "      <td>1</td>\n",
       "    </tr>\n",
       "    <tr>\n",
       "      <th>767</th>\n",
       "      <td>1</td>\n",
       "      <td>93</td>\n",
       "      <td>0</td>\n",
       "      <td>30.4</td>\n",
       "      <td>0.315</td>\n",
       "      <td>23</td>\n",
       "      <td>0</td>\n",
       "    </tr>\n",
       "  </tbody>\n",
       "</table>\n",
       "<p>768 rows × 7 columns</p>\n",
       "</div>"
      ],
      "text/plain": [
       "     Pregnancies  Glucose  Insulin   BMI  DiabetesPedigreeFunction  Age  \\\n",
       "0              6      148        0  33.6                     0.627   50   \n",
       "1              1       85        0  26.6                     0.351   31   \n",
       "2              8      183        0  23.3                     0.672   32   \n",
       "3              1       89       94  28.1                     0.167   21   \n",
       "4              0      137      168  43.1                     2.288   33   \n",
       "..           ...      ...      ...   ...                       ...  ...   \n",
       "763           10      101      180  32.9                     0.171   63   \n",
       "764            2      122        0  36.8                     0.340   27   \n",
       "765            5      121      112  26.2                     0.245   30   \n",
       "766            1      126        0  30.1                     0.349   47   \n",
       "767            1       93        0  30.4                     0.315   23   \n",
       "\n",
       "     Outcome  \n",
       "0          1  \n",
       "1          0  \n",
       "2          1  \n",
       "3          0  \n",
       "4          1  \n",
       "..       ...  \n",
       "763        0  \n",
       "764        0  \n",
       "765        0  \n",
       "766        1  \n",
       "767        0  \n",
       "\n",
       "[768 rows x 7 columns]"
      ]
     },
     "execution_count": 58,
     "metadata": {},
     "output_type": "execute_result"
    }
   ],
   "source": [
    "df"
   ]
  },
  {
   "cell_type": "code",
   "execution_count": 59,
   "id": "98e90727",
   "metadata": {},
   "outputs": [
    {
     "data": {
      "text/plain": [
       "(768, 7)"
      ]
     },
     "execution_count": 59,
     "metadata": {},
     "output_type": "execute_result"
    }
   ],
   "source": [
    "df.shape"
   ]
  },
  {
   "cell_type": "markdown",
   "id": "a3373348",
   "metadata": {},
   "source": [
    "Diciding data in features and vectors:"
   ]
  },
  {
   "cell_type": "markdown",
   "id": "bd1019b1",
   "metadata": {},
   "source": [
    "# Removing the Outliers"
   ]
  },
  {
   "cell_type": "markdown",
   "id": "0fd7a242",
   "metadata": {},
   "source": [
    "Z-score Technique"
   ]
  },
  {
   "cell_type": "code",
   "execution_count": 61,
   "id": "67a0bb70",
   "metadata": {},
   "outputs": [],
   "source": [
    "x=df.iloc[:,:-1] # ----- i am slecting all the rows & columns except last columns-1\n",
    "y=df.iloc[:,-1]  # i am taking all the rows and last columns -in this columns my target variable is present"
   ]
  },
  {
   "cell_type": "code",
   "execution_count": 62,
   "id": "e76142e9",
   "metadata": {},
   "outputs": [
    {
     "data": {
      "text/html": [
       "<div>\n",
       "<style scoped>\n",
       "    .dataframe tbody tr th:only-of-type {\n",
       "        vertical-align: middle;\n",
       "    }\n",
       "\n",
       "    .dataframe tbody tr th {\n",
       "        vertical-align: top;\n",
       "    }\n",
       "\n",
       "    .dataframe thead th {\n",
       "        text-align: right;\n",
       "    }\n",
       "</style>\n",
       "<table border=\"1\" class=\"dataframe\">\n",
       "  <thead>\n",
       "    <tr style=\"text-align: right;\">\n",
       "      <th></th>\n",
       "      <th>Pregnancies</th>\n",
       "      <th>Glucose</th>\n",
       "      <th>Insulin</th>\n",
       "      <th>BMI</th>\n",
       "      <th>DiabetesPedigreeFunction</th>\n",
       "      <th>Age</th>\n",
       "    </tr>\n",
       "  </thead>\n",
       "  <tbody>\n",
       "    <tr>\n",
       "      <th>0</th>\n",
       "      <td>6</td>\n",
       "      <td>148</td>\n",
       "      <td>0</td>\n",
       "      <td>33.6</td>\n",
       "      <td>0.627</td>\n",
       "      <td>50</td>\n",
       "    </tr>\n",
       "    <tr>\n",
       "      <th>1</th>\n",
       "      <td>1</td>\n",
       "      <td>85</td>\n",
       "      <td>0</td>\n",
       "      <td>26.6</td>\n",
       "      <td>0.351</td>\n",
       "      <td>31</td>\n",
       "    </tr>\n",
       "    <tr>\n",
       "      <th>2</th>\n",
       "      <td>8</td>\n",
       "      <td>183</td>\n",
       "      <td>0</td>\n",
       "      <td>23.3</td>\n",
       "      <td>0.672</td>\n",
       "      <td>32</td>\n",
       "    </tr>\n",
       "    <tr>\n",
       "      <th>3</th>\n",
       "      <td>1</td>\n",
       "      <td>89</td>\n",
       "      <td>94</td>\n",
       "      <td>28.1</td>\n",
       "      <td>0.167</td>\n",
       "      <td>21</td>\n",
       "    </tr>\n",
       "    <tr>\n",
       "      <th>4</th>\n",
       "      <td>0</td>\n",
       "      <td>137</td>\n",
       "      <td>168</td>\n",
       "      <td>43.1</td>\n",
       "      <td>2.288</td>\n",
       "      <td>33</td>\n",
       "    </tr>\n",
       "    <tr>\n",
       "      <th>...</th>\n",
       "      <td>...</td>\n",
       "      <td>...</td>\n",
       "      <td>...</td>\n",
       "      <td>...</td>\n",
       "      <td>...</td>\n",
       "      <td>...</td>\n",
       "    </tr>\n",
       "    <tr>\n",
       "      <th>763</th>\n",
       "      <td>10</td>\n",
       "      <td>101</td>\n",
       "      <td>180</td>\n",
       "      <td>32.9</td>\n",
       "      <td>0.171</td>\n",
       "      <td>63</td>\n",
       "    </tr>\n",
       "    <tr>\n",
       "      <th>764</th>\n",
       "      <td>2</td>\n",
       "      <td>122</td>\n",
       "      <td>0</td>\n",
       "      <td>36.8</td>\n",
       "      <td>0.340</td>\n",
       "      <td>27</td>\n",
       "    </tr>\n",
       "    <tr>\n",
       "      <th>765</th>\n",
       "      <td>5</td>\n",
       "      <td>121</td>\n",
       "      <td>112</td>\n",
       "      <td>26.2</td>\n",
       "      <td>0.245</td>\n",
       "      <td>30</td>\n",
       "    </tr>\n",
       "    <tr>\n",
       "      <th>766</th>\n",
       "      <td>1</td>\n",
       "      <td>126</td>\n",
       "      <td>0</td>\n",
       "      <td>30.1</td>\n",
       "      <td>0.349</td>\n",
       "      <td>47</td>\n",
       "    </tr>\n",
       "    <tr>\n",
       "      <th>767</th>\n",
       "      <td>1</td>\n",
       "      <td>93</td>\n",
       "      <td>0</td>\n",
       "      <td>30.4</td>\n",
       "      <td>0.315</td>\n",
       "      <td>23</td>\n",
       "    </tr>\n",
       "  </tbody>\n",
       "</table>\n",
       "<p>768 rows × 6 columns</p>\n",
       "</div>"
      ],
      "text/plain": [
       "     Pregnancies  Glucose  Insulin   BMI  DiabetesPedigreeFunction  Age\n",
       "0              6      148        0  33.6                     0.627   50\n",
       "1              1       85        0  26.6                     0.351   31\n",
       "2              8      183        0  23.3                     0.672   32\n",
       "3              1       89       94  28.1                     0.167   21\n",
       "4              0      137      168  43.1                     2.288   33\n",
       "..           ...      ...      ...   ...                       ...  ...\n",
       "763           10      101      180  32.9                     0.171   63\n",
       "764            2      122        0  36.8                     0.340   27\n",
       "765            5      121      112  26.2                     0.245   30\n",
       "766            1      126        0  30.1                     0.349   47\n",
       "767            1       93        0  30.4                     0.315   23\n",
       "\n",
       "[768 rows x 6 columns]"
      ]
     },
     "execution_count": 62,
     "metadata": {},
     "output_type": "execute_result"
    }
   ],
   "source": [
    "x"
   ]
  },
  {
   "cell_type": "code",
   "execution_count": 63,
   "id": "cbcc2e89",
   "metadata": {},
   "outputs": [
    {
     "data": {
      "text/plain": [
       "0      1\n",
       "1      0\n",
       "2      1\n",
       "3      0\n",
       "4      1\n",
       "      ..\n",
       "763    0\n",
       "764    0\n",
       "765    0\n",
       "766    1\n",
       "767    0\n",
       "Name: Outcome, Length: 768, dtype: int64"
      ]
     },
     "execution_count": 63,
     "metadata": {},
     "output_type": "execute_result"
    }
   ],
   "source": [
    "y"
   ]
  },
  {
   "cell_type": "markdown",
   "id": "368c8cb3",
   "metadata": {},
   "source": [
    "#we not detect the  outliers from the target variable as well as from category real data or categorical column so here all the data holds numeric because  here 6 1 8 uniq value etc for gulcose- 148, 85 etc \n",
    "\n",
    "In this method to detect tyhe outliers from the conntinous columns -using zscore"
   ]
  },
  {
   "cell_type": "code",
   "execution_count": 65,
   "id": "8a5f053c",
   "metadata": {},
   "outputs": [
    {
     "data": {
      "text/plain": [
       "(768, 6)"
      ]
     },
     "execution_count": 65,
     "metadata": {},
     "output_type": "execute_result"
    }
   ],
   "source": [
    "from scipy.stats import zscore\n",
    "import numpy as np\n",
    "z=np.abs(zscore(x))    \n",
    "z.shape\n",
    "\n"
   ]
  },
  {
   "cell_type": "code",
   "execution_count": 66,
   "id": "617a387d",
   "metadata": {},
   "outputs": [
    {
     "name": "stdout",
     "output_type": "stream",
     "text": [
      "(array([  4,   8,   9,  13,  45,  49,  58,  60,  75,  81,  88, 111, 123,\n",
      "       145, 153, 159, 177, 182, 186, 220, 228, 228, 247, 286, 298, 330,\n",
      "       342, 349, 370, 370, 371, 371, 395, 409, 415, 426, 445, 445, 453,\n",
      "       455, 459, 486, 494, 502, 522, 584, 593, 621, 645, 655, 666, 673,\n",
      "       684, 684, 695, 706, 753], dtype=int64), array([4, 2, 3, 2, 4, 3, 4, 3, 1, 3, 0, 2, 5, 3, 2, 0, 3, 1, 2, 2, 2, 4,\n",
      "       2, 2, 0, 4, 1, 1, 2, 4, 3, 4, 4, 2, 2, 3, 3, 4, 5, 0, 5, 2, 3, 1,\n",
      "       3, 2, 4, 4, 2, 2, 5, 3, 3, 5, 2, 3, 2], dtype=int64))\n"
     ]
    }
   ],
   "source": [
    "threshold=3      # 1st arry are rows -13th row and 2nd columns outlierrs are present\n",
    "print(np.where(z>3))"
   ]
  },
  {
   "cell_type": "markdown",
   "id": "3d591cca",
   "metadata": {},
   "source": [
    "Outlier present in the 4th row, 4th columns| 8th row , 2nd columns  \n",
    "\n",
    "\n",
    "The  above value are 1st shows the row index value\n",
    "\n",
    "2nd one show the columns index value"
   ]
  },
  {
   "cell_type": "code",
   "execution_count": 70,
   "id": "2d0502ea",
   "metadata": {},
   "outputs": [
    {
     "name": "stdout",
     "output_type": "stream",
     "text": [
      "(768, 7)\n",
      "(716, 7)\n"
     ]
    }
   ],
   "source": [
    "df1=df[(z<3).all(axis=1)]\n",
    "print(df.shape)\n",
    "print(df1.shape)\n",
    "\n",
    "#x.shape"
   ]
  },
  {
   "cell_type": "code",
   "execution_count": 71,
   "id": "44de6d0b",
   "metadata": {},
   "outputs": [
    {
     "data": {
      "text/plain": [
       "(716, 6)"
      ]
     },
     "execution_count": 71,
     "metadata": {},
     "output_type": "execute_result"
    }
   ],
   "source": [
    "x=x[(z<3).all(axis=1)] #this categorical variables\n",
    "x.shape"
   ]
  },
  {
   "cell_type": "code",
   "execution_count": 72,
   "id": "91bc38d9",
   "metadata": {},
   "outputs": [
    {
     "data": {
      "text/plain": [
       "(716,)"
      ]
     },
     "execution_count": 72,
     "metadata": {},
     "output_type": "execute_result"
    }
   ],
   "source": [
    "y=y[(z<3).all(axis=1)]\n",
    "y.shape"
   ]
  },
  {
   "cell_type": "markdown",
   "id": "9fa14253",
   "metadata": {},
   "source": [
    "Percentage data loss:"
   ]
  },
  {
   "cell_type": "code",
   "execution_count": 74,
   "id": "5c314b33",
   "metadata": {},
   "outputs": [
    {
     "name": "stdout",
     "output_type": "stream",
     "text": [
      "6.770833333333333\n"
     ]
    }
   ],
   "source": [
    "loss_percent=(768-716)/768*100\n",
    "print(loss_percent)"
   ]
  },
  {
   "cell_type": "markdown",
   "id": "8d5815e1",
   "metadata": {},
   "source": [
    "Checking whether how much outlier are still there. if the outliers there help in testing the model or not"
   ]
  },
  {
   "cell_type": "markdown",
   "id": "21f2e376",
   "metadata": {},
   "source": [
    "# Model Without outliers is df1 and model with desired outliers is df:"
   ]
  },
  {
   "cell_type": "markdown",
   "id": "178ab8d5",
   "metadata": {},
   "source": [
    "Indented Block"
   ]
  },
  {
   "cell_type": "markdown",
   "id": "4a6b7e8b",
   "metadata": {},
   "source": [
    "Transforming data to remove skewness:"
   ]
  },
  {
   "cell_type": "code",
   "execution_count": 76,
   "id": "b6a49e87",
   "metadata": {},
   "outputs": [],
   "source": [
    "#By using the power tranform method we are removing the outliers\n",
    "from sklearn.preprocessing import power_transform\n",
    "x=power_transform(x,method='yeo-johnson')\n"
   ]
  },
  {
   "cell_type": "markdown",
   "id": "cfcb119b",
   "metadata": {},
   "source": [
    "#Another method is box cost - but in that box cost negative value are there un that method is not suitable - only positive value"
   ]
  },
  {
   "cell_type": "code",
   "execution_count": 77,
   "id": "ca7e895d",
   "metadata": {},
   "outputs": [
    {
     "data": {
      "text/plain": [
       "array([[ 0.81766344,  0.95218058, -1.00223104,  0.28114356,  0.86495337,\n",
       "         1.39031405],\n",
       "       [-0.84957557, -1.28238174, -1.00223104, -0.83047682, -0.16002044,\n",
       "         0.12808007],\n",
       "       [ 1.20277392,  1.82893792, -1.00223104, -1.43279399,  0.98450779,\n",
       "         0.23328673],\n",
       "       ...,\n",
       "       [ 0.59040907,  0.13114807,  0.96157194, -0.9003888 , -0.75346236,\n",
       "         0.0156547 ],\n",
       "       [-0.84957557,  0.29534181, -1.00223104, -0.25021575, -0.1698999 ,\n",
       "         1.26101626],\n",
       "       [-0.84957557, -0.92550642, -1.00223104, -0.2028927 , -0.34504064,\n",
       "        -1.05311184]])"
      ]
     },
     "execution_count": 77,
     "metadata": {},
     "output_type": "execute_result"
    }
   ],
   "source": [
    "x"
   ]
  },
  {
   "cell_type": "markdown",
   "id": "5cab1d47",
   "metadata": {},
   "source": [
    "#why we are using Standard scaler\n",
    "#Ans.  Two micro unit are Blood pressure Glucose are two micro unit then it will create the piousness to so avoid the biasednes we are applying the standard scaler method or Minimax scaler"
   ]
  },
  {
   "cell_type": "code",
   "execution_count": 81,
   "id": "c21f804f",
   "metadata": {},
   "outputs": [
    {
     "data": {
      "text/plain": [
       "array([[ 0.81766344,  0.95218058, -1.00223104,  0.28114356,  0.86495337,\n",
       "         1.39031405],\n",
       "       [-0.84957557, -1.28238174, -1.00223104, -0.83047682, -0.16002044,\n",
       "         0.12808007],\n",
       "       [ 1.20277392,  1.82893792, -1.00223104, -1.43279399,  0.98450779,\n",
       "         0.23328673],\n",
       "       ...,\n",
       "       [ 0.59040907,  0.13114807,  0.96157194, -0.9003888 , -0.75346236,\n",
       "         0.0156547 ],\n",
       "       [-0.84957557,  0.29534181, -1.00223104, -0.25021575, -0.1698999 ,\n",
       "         1.26101626],\n",
       "       [-0.84957557, -0.92550642, -1.00223104, -0.2028927 , -0.34504064,\n",
       "        -1.05311184]])"
      ]
     },
     "execution_count": 81,
     "metadata": {},
     "output_type": "execute_result"
    }
   ],
   "source": [
    "from sklearn.preprocessing  import StandardScaler\n",
    "sc=StandardScaler()\n",
    "x=sc.fit_transform(x)\n",
    "x"
   ]
  },
  {
   "cell_type": "markdown",
   "id": "7ba2dcfa",
   "metadata": {},
   "source": [
    "Process of EDA(Explonatery Data Analysis)\n",
    "\n",
    "Importing the library\n",
    "\n",
    "1. Identification of variables and data types \n",
    "\n",
    "2. Analyzing the basic metrics \n",
    "\n",
    "3. Non - Graphical Univariate Analysis \n",
    "\n",
    "4. Missing value treatment \n",
    "\n",
    "5. Graphical Univariate Analysis \n",
    "\n",
    "6. Bivariate Analysis \n",
    "\n",
    "7. Encoding the categorical Data \n",
    "\n",
    "8. Outlier treatment \n",
    "\n",
    "9. Variable transformations \n",
    "\n",
    "10. Correlation Analysis \n",
    "\n",
    "11. Dimensionality Reduction \n",
    "\n",
    "12. Use of Resampling Techniques to handle Imbalanced Data ( For classification problem only ) \n",
    "\n",
    "13. Scaling of Independent features"
   ]
  },
  {
   "cell_type": "code",
   "execution_count": 83,
   "id": "0bd40817",
   "metadata": {},
   "outputs": [
    {
     "data": {
      "text/plain": [
       "0    473\n",
       "1    243\n",
       "Name: Outcome, dtype: int64"
      ]
     },
     "execution_count": 83,
     "metadata": {},
     "output_type": "execute_result"
    }
   ],
   "source": [
    "y.value_counts()\n",
    "#Data is not balanced  in thatbcase we will use the oversampling method"
   ]
  },
  {
   "cell_type": "code",
   "execution_count": 86,
   "id": "84cffa84",
   "metadata": {},
   "outputs": [],
   "source": [
    "# Oversampling the data\n",
    "from imblearn.over_sampling import SMOTE\n",
    "SM = SMOTE()\n",
    "x,y = SM.fit_resample(x, y)"
   ]
  },
  {
   "cell_type": "code",
   "execution_count": 87,
   "id": "7a3596a7",
   "metadata": {},
   "outputs": [
    {
     "data": {
      "text/plain": [
       "1    473\n",
       "0    473\n",
       "Name: Outcome, dtype: int64"
      ]
     },
     "execution_count": 87,
     "metadata": {},
     "output_type": "execute_result"
    }
   ],
   "source": [
    "#Checking value count of traget column\n",
    "y.value_counts()"
   ]
  },
  {
   "cell_type": "markdown",
   "id": "36720db8",
   "metadata": {},
   "source": [
    "Since the outcome has only two variable we will binary classification model"
   ]
  },
  {
   "cell_type": "code",
   "execution_count": 88,
   "id": "a627c164",
   "metadata": {},
   "outputs": [],
   "source": [
    "from sklearn.model_selection import train_test_split\n",
    "from sklearn.linear_model import LogisticRegression\n",
    "lr=LogisticRegression()\n",
    "from sklearn.metrics import classification_report, confusion_matrix, roc_curve, accuracy_score"
   ]
  },
  {
   "cell_type": "markdown",
   "id": "f3952fd8",
   "metadata": {},
   "source": [
    "Splitting the dataframe:"
   ]
  },
  {
   "cell_type": "code",
   "execution_count": 94,
   "id": "1f73c956",
   "metadata": {},
   "outputs": [
    {
     "name": "stdout",
     "output_type": "stream",
     "text": [
      "At random state 5 The model perform very well\n",
      "At random_state:- 5\n",
      "Training accuracy is:- 76.32275132275133\n",
      "Testing accuracy is:- 76.31578947368422\n",
      "At random state 353 The model perform very well\n",
      "At random_state:- 353\n",
      "Training accuracy is:- 75.79365079365078\n",
      "Testing accuracy is:- 75.78947368421053\n",
      "At random state 400 The model perform very well\n",
      "At random_state:- 400\n",
      "Training accuracy is:- 76.32275132275133\n",
      "Testing accuracy is:- 76.31578947368422\n",
      "At random state 452 The model perform very well\n",
      "At random_state:- 452\n",
      "Training accuracy is:- 75.79365079365078\n",
      "Testing accuracy is:- 75.78947368421053\n",
      "At random state 590 The model perform very well\n",
      "At random_state:- 590\n",
      "Training accuracy is:- 76.32275132275133\n",
      "Testing accuracy is:- 76.31578947368422\n",
      "At random state 618 The model perform very well\n",
      "At random_state:- 618\n",
      "Training accuracy is:- 76.32275132275133\n",
      "Testing accuracy is:- 76.31578947368422\n",
      "At random state 804 The model perform very well\n",
      "At random_state:- 804\n",
      "Training accuracy is:- 76.32275132275133\n",
      "Testing accuracy is:- 76.31578947368422\n"
     ]
    }
   ],
   "source": [
    "for i in range(0,1000):\n",
    "    x_train,x_test,y_train,y_test=train_test_split(x,y,random_state=i,test_size=0.20)\n",
    "    lr.fit(x_train,y_train)\n",
    "    pred_train=lr.predict(x_train)\n",
    "    pred_test=lr.predict(x_test)\n",
    "    if round(accuracy_score(y_train,pred_train)*100,1)==round(accuracy_score(y_test,pred_test)*100,1):\n",
    "        print(\"At random state\", i,\"The model perform very well\")\n",
    "        print(\"At random_state:-\",i)\n",
    "        print(\"Training accuracy is:-\", accuracy_score(y_train,pred_train)*100)\n",
    "        print(\"Testing accuracy is:-\", accuracy_score(y_test,pred_test)*100)"
   ]
  },
  {
   "cell_type": "code",
   "execution_count": 95,
   "id": "ae71048d",
   "metadata": {},
   "outputs": [],
   "source": [
    "x_train,x_test,y_train,y_test=train_test_split(x,y,test_size=0.20,random_state=5)"
   ]
  },
  {
   "cell_type": "code",
   "execution_count": 96,
   "id": "ede5bd90",
   "metadata": {},
   "outputs": [
    {
     "name": "stdout",
     "output_type": "stream",
     "text": [
      "              precision    recall  f1-score   support\n",
      "\n",
      "           0       0.48      0.52      0.50        93\n",
      "           1       0.51      0.47      0.49        97\n",
      "\n",
      "    accuracy                           0.49       190\n",
      "   macro avg       0.50      0.50      0.49       190\n",
      "weighted avg       0.50      0.49      0.49       190\n",
      "\n"
     ]
    }
   ],
   "source": [
    "from sklearn.metrics import classification_report\n",
    "print(classification_report(y_test,pred_test))"
   ]
  },
  {
   "cell_type": "markdown",
   "id": "ed37b4f7",
   "metadata": {},
   "source": [
    "# Cross Validation score for logistic  Regression:"
   ]
  },
  {
   "cell_type": "code",
   "execution_count": 99,
   "id": "04613f5f",
   "metadata": {},
   "outputs": [
    {
     "name": "stdout",
     "output_type": "stream",
     "text": [
      "At cv:- 2\n",
      "Cross validation score is:- 76.00422832980973\n",
      "accuracy_score:- 75.78947368421053\n",
      "\n",
      "\n",
      "At cv:- 3\n",
      "Cross validation score is:- 76.5370705244123\n",
      "accuracy_score:- 75.78947368421053\n",
      "\n",
      "\n",
      "At cv:- 4\n",
      "Cross validation score is:- 76.11429950654366\n",
      "accuracy_score:- 75.78947368421053\n",
      "\n",
      "\n",
      "At cv:- 5\n",
      "Cross validation score is:- 76.22055137844612\n",
      "accuracy_score:- 75.78947368421053\n",
      "\n",
      "\n",
      "At cv:- 6\n",
      "Cross validation score is:- 76.32629202612272\n",
      "accuracy_score:- 75.78947368421053\n",
      "\n",
      "\n",
      "At cv:- 7\n",
      "Cross validation score is:- 76.43168378462497\n",
      "accuracy_score:- 75.78947368421053\n",
      "\n",
      "\n",
      "At cv:- 8\n",
      "Cross validation score is:- 76.11807434838342\n",
      "accuracy_score:- 75.78947368421053\n",
      "\n",
      "\n",
      "At cv:- 9\n",
      "Cross validation score is:- 76.22242188279924\n",
      "accuracy_score:- 75.78947368421053\n",
      "\n",
      "\n"
     ]
    }
   ],
   "source": [
    "pred_lr = lr.predict(x_test)\n",
    "from sklearn.model_selection import cross_val_score\n",
    "lss = accuracy_score(y_test,pred_lr)\n",
    "for j in range(2,10):\n",
    "    lsscore = cross_val_score(lr,x1,y1,cv=j) #lr-linear reg, x, y pass the data to future &target value, cv=j is the defult value of the \n",
    "                                             #x1, y1 data is the after balancing the data \n",
    "    lsc = lsscore.mean()\n",
    "    print(\"At cv:-\",j)\n",
    "    print(\"Cross validation score is:-\",lsc*100)\n",
    "    print(\"accuracy_score:-\",lss*100)\n",
    "    print(\"\\n\")"
   ]
  },
  {
   "cell_type": "markdown",
   "id": "42f161df",
   "metadata": {},
   "source": [
    "since cross validation score accuracy acore are almost same. we are heading with a good approach"
   ]
  },
  {
   "cell_type": "code",
   "execution_count": 102,
   "id": "32695c6b",
   "metadata": {},
   "outputs": [
    {
     "name": "stdout",
     "output_type": "stream",
     "text": [
      "The cv score is: 0.765370705244123 \n",
      "The accuracy score is: 0.7578947368421053\n"
     ]
    }
   ],
   "source": [
    "lsscore_selected = cross_val_score(lr,x,y,cv=3).mean()\n",
    "print(\"The cv score is:\", lsscore_selected,\"\\nThe accuracy score is:\",lss)"
   ]
  },
  {
   "cell_type": "code",
   "execution_count": 105,
   "id": "c6618f00",
   "metadata": {},
   "outputs": [
    {
     "name": "stdout",
     "output_type": "stream",
     "text": [
      "0.7947368421052632\n",
      "[[69 24]\n",
      " [15 82]]\n",
      "              precision    recall  f1-score   support\n",
      "\n",
      "           0       0.82      0.74      0.78        93\n",
      "           1       0.77      0.85      0.81        97\n",
      "\n",
      "    accuracy                           0.79       190\n",
      "   macro avg       0.80      0.79      0.79       190\n",
      "weighted avg       0.80      0.79      0.79       190\n",
      "\n"
     ]
    }
   ],
   "source": [
    "from sklearn.ensemble import GradientBoostingClassifier, AdaBoostClassifier, BaggingClassifier\n",
    "from sklearn.ensemble import RandomForestClassifier,ExtraTreesClassifier\n",
    "RFC = RandomForestClassifier()\n",
    "RFC.fit(x_train, y_train)\n",
    "predRFC = RFC.predict(x_test)\n",
    "print(accuracy_score(y_test,predRFC))\n",
    "print(confusion_matrix(y_test, predRFC))\n",
    "print(classification_report(y_test, predRFC))"
   ]
  },
  {
   "cell_type": "code",
   "execution_count": 106,
   "id": "4cea55f7",
   "metadata": {},
   "outputs": [
    {
     "name": "stdout",
     "output_type": "stream",
     "text": [
      "[0.77531646 0.83174603 0.86666667]\n",
      "0.8245763847029671\n",
      "Difference between Accuracy score and cross validation score is :-  -0.02983954259770394\n"
     ]
    }
   ],
   "source": [
    "score = cross_val_score(RFC,x,y,cv=3)\n",
    "print(score)\n",
    "print(score.mean())\n",
    "print(\"Difference between Accuracy score and cross validation score is :- \", accuracy_score(y_test, predRFC)-score.mean())"
   ]
  },
  {
   "cell_type": "code",
   "execution_count": 108,
   "id": "81b4b8c6",
   "metadata": {},
   "outputs": [
    {
     "name": "stdout",
     "output_type": "stream",
     "text": [
      "0.7578947368421053\n",
      "[[64 29]\n",
      " [17 80]]\n",
      "              precision    recall  f1-score   support\n",
      "\n",
      "           0       0.79      0.69      0.74        93\n",
      "           1       0.73      0.82      0.78        97\n",
      "\n",
      "    accuracy                           0.76       190\n",
      "   macro avg       0.76      0.76      0.76       190\n",
      "weighted avg       0.76      0.76      0.76       190\n",
      "\n"
     ]
    }
   ],
   "source": [
    "#support vector classification\n",
    "from sklearn.svm import SVC\n",
    "svc = SVC()\n",
    "svc.fit(x_train,y_train)\n",
    "predsvc = svc.predict(x_test)\n",
    "print(accuracy_score(y_test, predsvc))\n",
    "print(confusion_matrix(y_test, predsvc))\n",
    "print(classification_report(y_test, predsvc))"
   ]
  },
  {
   "cell_type": "code",
   "execution_count": 109,
   "id": "5e9e8b3d",
   "metadata": {},
   "outputs": [
    {
     "name": "stdout",
     "output_type": "stream",
     "text": [
      "[0.73157895 0.75661376 0.81481481 0.84656085 0.81481481]\n",
      "0.7928766360345307\n",
      "Difference between Accuracy score is - -0.03498189919242545\n"
     ]
    }
   ],
   "source": [
    "#Cheking Cv score for support vector Machine classifier\n",
    "\n",
    "score = cross_val_score(svc, x, y)\n",
    "print(score)\n",
    "print(score.mean())\n",
    "print(\"Difference between Accuracy score is -\", accuracy_score(y_test,predsvc)-score.mean())"
   ]
  },
  {
   "cell_type": "code",
   "execution_count": 110,
   "id": "d6794fab",
   "metadata": {},
   "outputs": [
    {
     "name": "stdout",
     "output_type": "stream",
     "text": [
      "0.7736842105263158\n",
      "[[70 23]\n",
      " [20 77]]\n",
      "              precision    recall  f1-score   support\n",
      "\n",
      "           0       0.78      0.75      0.77        93\n",
      "           1       0.77      0.79      0.78        97\n",
      "\n",
      "    accuracy                           0.77       190\n",
      "   macro avg       0.77      0.77      0.77       190\n",
      "weighted avg       0.77      0.77      0.77       190\n",
      "\n"
     ]
    }
   ],
   "source": [
    "#checking accuracy for gradient boosting Classifier\n",
    "\n",
    "GB = GradientBoostingClassifier()\n",
    "GB.fit(x_train, y_train)\n",
    "predGB = GB.predict(x_test)\n",
    "print(accuracy_score(y_test, predGB))\n",
    "print(confusion_matrix(y_test, predGB))\n",
    "print(classification_report(y_test, predGB))"
   ]
  },
  {
   "cell_type": "code",
   "execution_count": 111,
   "id": "2b267a6f",
   "metadata": {},
   "outputs": [
    {
     "name": "stdout",
     "output_type": "stream",
     "text": [
      "0.8157894736842105\n",
      "[[71 22]\n",
      " [13 84]]\n",
      "              precision    recall  f1-score   support\n",
      "\n",
      "           0       0.85      0.76      0.80        93\n",
      "           1       0.79      0.87      0.83        97\n",
      "\n",
      "    accuracy                           0.82       190\n",
      "   macro avg       0.82      0.81      0.81       190\n",
      "weighted avg       0.82      0.82      0.82       190\n",
      "\n"
     ]
    }
   ],
   "source": [
    "#checking accuracy for ExtraTreeclassifier\n",
    "ET = ExtraTreesClassifier()\n",
    "ET.fit(x_train, y_train)\n",
    "predET = ET.predict(x_test)\n",
    "print(accuracy_score(y_test, predET))\n",
    "print(confusion_matrix(y_test, predET))\n",
    "print(classification_report(y_test, predET))"
   ]
  },
  {
   "cell_type": "code",
   "execution_count": 113,
   "id": "3aa4bd23",
   "metadata": {},
   "outputs": [
    {
     "name": "stdout",
     "output_type": "stream",
     "text": [
      "[0.83157895 0.7989418  0.84126984 0.88888889 0.87830688]\n",
      "0.8477972709551658\n",
      "Difference between Accuracy score and cross validation score is:-  -0.03200779727095526\n"
     ]
    }
   ],
   "source": [
    "#cheking the cv score for extra Tree classifier\n",
    "\n",
    "score = cross_val_score(ET, x, y)\n",
    "print(score)\n",
    "print(score.mean())\n",
    "print(\"Difference between Accuracy score and cross validation score is:- \", accuracy_score(y_test, predET)-score.mean())"
   ]
  },
  {
   "cell_type": "markdown",
   "id": "84906d45",
   "metadata": {},
   "source": [
    "Hyper parameter tuning "
   ]
  },
  {
   "cell_type": "code",
   "execution_count": 114,
   "id": "4c2a55b3",
   "metadata": {},
   "outputs": [],
   "source": [
    "# ExtraTress Classifier\n",
    "from sklearn.model_selection import GridSearchCV\n",
    "\n",
    "parameters = {'criterion': ['gini', 'entropy'],\n",
    "             'random_state':[10, 50, 100],\n",
    "             'max_depth':[0, 10 ,20],\n",
    "             'n_jobs': [-2, -1, 1],\n",
    "             'n_estimators' : [50, 100, 200, 300]}"
   ]
  },
  {
   "cell_type": "code",
   "execution_count": 119,
   "id": "8d3241bd",
   "metadata": {},
   "outputs": [],
   "source": [
    "GCV = GridSearchCV(ExtraTreesClassifier(), parameters , cv= 3 )"
   ]
  },
  {
   "cell_type": "code",
   "execution_count": 126,
   "id": "e207605e",
   "metadata": {},
   "outputs": [
    {
     "data": {
      "text/plain": [
       "GridSearchCV(cv=3, estimator=ExtraTreesClassifier(),\n",
       "             param_grid={'criterion': ['gini', 'entropy'],\n",
       "                         'max_depth': [0, 10, 20],\n",
       "                         'n_estimators': [50, 100, 200, 300],\n",
       "                         'n_jobs': [-2, -1, 1], 'random_state': [10, 50, 100]})"
      ]
     },
     "execution_count": 126,
     "metadata": {},
     "output_type": "execute_result"
    }
   ],
   "source": [
    "GCV.fit(x_train,y_train)"
   ]
  },
  {
   "cell_type": "code",
   "execution_count": null,
   "id": "1f9df099",
   "metadata": {},
   "outputs": [],
   "source": [
    "#google search - sklearn gradientBoosting Classifier"
   ]
  },
  {
   "cell_type": "code",
   "execution_count": 127,
   "id": "2c154479",
   "metadata": {},
   "outputs": [
    {
     "data": {
      "text/plain": [
       "{'criterion': 'gini',\n",
       " 'max_depth': 10,\n",
       " 'n_estimators': 200,\n",
       " 'n_jobs': -2,\n",
       " 'random_state': 100}"
      ]
     },
     "execution_count": 127,
     "metadata": {},
     "output_type": "execute_result"
    }
   ],
   "source": [
    "GCV.best_params_"
   ]
  },
  {
   "cell_type": "code",
   "execution_count": 130,
   "id": "924a80ba",
   "metadata": {},
   "outputs": [
    {
     "name": "stdout",
     "output_type": "stream",
     "text": [
      "79.47368421052632\n"
     ]
    }
   ],
   "source": [
    "Final_model = ExtraTreesClassifier(criterion = 'gini', max_depth= 10, n_estimators=200, n_jobs = -2, random_state = 100)\n",
    "Final_model.fit(x_train, y_train)\n",
    "pred = Final_model.predict(x_test)\n",
    "acc = accuracy_score(y_test, pred)\n",
    "print(acc*100)"
   ]
  },
  {
   "cell_type": "markdown",
   "id": "6d79b6f2",
   "metadata": {},
   "source": [
    "# AUC ROC Curve"
   ]
  },
  {
   "cell_type": "code",
   "execution_count": 132,
   "id": "cfb1efd1",
   "metadata": {},
   "outputs": [
    {
     "data": {
      "image/png": "[encoded data removed]",
      "text/plain": [
       "<Figure size 432x288 with 1 Axes>"
      ]
     },
     "metadata": {
      "needs_background": "light"
     },
     "output_type": "display_data"
    }
   ],
   "source": [
    "from sklearn.metrics import roc_curve, auc\n",
    "fpr, tpr, thresholds = roc_curve(pred_test, y_test)\n",
    "roc_auc = auc(fpr, tpr)\n",
    "\n",
    "plt.figure()\n",
    "plt.plot(fpr, tpr, color='darkorange', lw=10, label='ROC curve(area= %0.2f)' % roc_auc)\n",
    "plt.plot([0, 1],[0, 1], color='navy', lw=10, linestyle='--')\n",
    "plt.xlim([0.0, 1.0])\n",
    "plt.ylim([0.0, 1.05])\n",
    "plt.xlabel('False Positive Rate')\n",
    "plt.ylabel('True Positive Rate')\n",
    "plt.title('Receiver operating characteristic')\n",
    "plt.title('Reciver operating characteristic')\n",
    "plt.legend(loc='lower right')\n",
    "plt.show()"
   ]
  },
  {
   "cell_type": "code",
   "execution_count": null,
   "id": "539944d3",
   "metadata": {},
   "outputs": [],
   "source": []
  },
  {
   "cell_type": "code",
   "execution_count": 138,
   "id": "ba5f24bb",
   "metadata": {},
   "outputs": [
    {
     "data": {
      "image/png": "[encoded data removed]",
      "text/plain": [
       "<Figure size 432x288 with 1 Axes>"
      ]
     },
     "metadata": {
      "needs_background": "light"
     },
     "output_type": "display_data"
    }
   ],
   "source": [
    "from sklearn import datasets\n",
    "from sklearn import metrics\n",
    "from sklearn import model_selection\n",
    "from sklearn.metrics import plot_roc_curve\n",
    "\n",
    "disp = plot_roc_curve(ET, x_test,y_test) # ax_=Axis with confusion matrix\n",
    "plot_roc_curve(RFC, x_test, y_test, ax = disp.ax_)\n",
    "\n",
    "plot_roc_curve(svc, x_test, y_test, ax = disp.ax_)\n",
    "plot_roc_curve(GB, x_test, y_test, ax = disp.ax_)\n",
    "\n",
    "plt.legend(prop={'size':11}, loc = 'lower right')\n",
    "plt.show()"
   ]
  },
  {
   "cell_type": "markdown",
   "id": "a1ce15ad",
   "metadata": {},
   "source": [
    "# Model Saving:\n"
   ]
  },
  {
   "cell_type": "code",
   "execution_count": 139,
   "id": "743141b4",
   "metadata": {},
   "outputs": [],
   "source": [
    "import pickle\n",
    "filename = 'inhouse_diabetes.pkl'\n",
    "pickle.dump(Final_model, open(filename, 'wb'))"
   ]
  },
  {
   "cell_type": "markdown",
   "id": "de22e70c",
   "metadata": {},
   "source": [
    "# Conclusion"
   ]
  },
  {
   "cell_type": "code",
   "execution_count": 141,
   "id": "dba6b664",
   "metadata": {},
   "outputs": [
    {
     "data": {
      "text/html": [
       "<div>\n",
       "<style scoped>\n",
       "    .dataframe tbody tr th:only-of-type {\n",
       "        vertical-align: middle;\n",
       "    }\n",
       "\n",
       "    .dataframe tbody tr th {\n",
       "        vertical-align: top;\n",
       "    }\n",
       "\n",
       "    .dataframe thead th {\n",
       "        text-align: right;\n",
       "    }\n",
       "</style>\n",
       "<table border=\"1\" class=\"dataframe\">\n",
       "  <thead>\n",
       "    <tr style=\"text-align: right;\">\n",
       "      <th></th>\n",
       "      <th>Original</th>\n",
       "      <th>Predicated</th>\n",
       "    </tr>\n",
       "  </thead>\n",
       "  <tbody>\n",
       "    <tr>\n",
       "      <th>0</th>\n",
       "      <td>0</td>\n",
       "      <td>0</td>\n",
       "    </tr>\n",
       "    <tr>\n",
       "      <th>1</th>\n",
       "      <td>0</td>\n",
       "      <td>0</td>\n",
       "    </tr>\n",
       "    <tr>\n",
       "      <th>2</th>\n",
       "      <td>1</td>\n",
       "      <td>1</td>\n",
       "    </tr>\n",
       "    <tr>\n",
       "      <th>3</th>\n",
       "      <td>0</td>\n",
       "      <td>1</td>\n",
       "    </tr>\n",
       "    <tr>\n",
       "      <th>4</th>\n",
       "      <td>1</td>\n",
       "      <td>1</td>\n",
       "    </tr>\n",
       "    <tr>\n",
       "      <th>...</th>\n",
       "      <td>...</td>\n",
       "      <td>...</td>\n",
       "    </tr>\n",
       "    <tr>\n",
       "      <th>185</th>\n",
       "      <td>1</td>\n",
       "      <td>1</td>\n",
       "    </tr>\n",
       "    <tr>\n",
       "      <th>186</th>\n",
       "      <td>0</td>\n",
       "      <td>0</td>\n",
       "    </tr>\n",
       "    <tr>\n",
       "      <th>187</th>\n",
       "      <td>0</td>\n",
       "      <td>0</td>\n",
       "    </tr>\n",
       "    <tr>\n",
       "      <th>188</th>\n",
       "      <td>1</td>\n",
       "      <td>1</td>\n",
       "    </tr>\n",
       "    <tr>\n",
       "      <th>189</th>\n",
       "      <td>0</td>\n",
       "      <td>1</td>\n",
       "    </tr>\n",
       "  </tbody>\n",
       "</table>\n",
       "<p>190 rows × 2 columns</p>\n",
       "</div>"
      ],
      "text/plain": [
       "     Original  Predicated\n",
       "0           0           0\n",
       "1           0           0\n",
       "2           1           1\n",
       "3           0           1\n",
       "4           1           1\n",
       "..        ...         ...\n",
       "185         1           1\n",
       "186         0           0\n",
       "187         0           0\n",
       "188         1           1\n",
       "189         0           1\n",
       "\n",
       "[190 rows x 2 columns]"
      ]
     },
     "execution_count": 141,
     "metadata": {},
     "output_type": "execute_result"
    }
   ],
   "source": [
    "import numpy as np\n",
    "a=np.array(y_test)\n",
    "predicted=np.array(lr.predict(x_test))\n",
    "df_com=pd.DataFrame({\"Original\": a, \"Predicated\":predicted}, index= range(len(a)))\n",
    "df_com"
   ]
  },
  {
   "cell_type": "code",
   "execution_count": null,
   "id": "23d26d5c",
   "metadata": {},
   "outputs": [],
   "source": []
  }
 ],
 "metadata": {
  "kernelspec": {
   "display_name": "Python 3 (ipykernel)",
   "language": "python",
   "name": "python3"
  },
  "language_info": {
   "codemirror_mode": {
    "name": "ipython",
    "version": 3
   },
   "file_extension": ".py",
   "mimetype": "text/x-python",
   "name": "python",
   "nbconvert_exporter": "python",
   "pygments_lexer": "ipython3",
   "version": "3.9.12"
  }
 },
 "nbformat": 4,
 "nbformat_minor": 5
}
